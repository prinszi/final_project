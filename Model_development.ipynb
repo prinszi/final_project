{
 "cells": [
  {
   "cell_type": "code",
   "execution_count": 285,
   "metadata": {},
   "outputs": [],
   "source": [
    "import pandas as pd\n",
    "import numpy as np"
   ]
  },
  {
   "cell_type": "code",
   "execution_count": 292,
   "metadata": {},
   "outputs": [],
   "source": [
    "violation_data = \"~/Downloads/violation_counts_grouped.csv\"\n",
    "city_data = \"final_project/new_inspection_data_2019.csv\""
   ]
  },
  {
   "cell_type": "code",
   "execution_count": 294,
   "metadata": {},
   "outputs": [],
   "source": [
    "violation_df = pd.read_csv(violation_data)"
   ]
  },
  {
   "cell_type": "code",
   "execution_count": 295,
   "metadata": {},
   "outputs": [],
   "source": [
    "data_df = pd.read_csv(city_data)"
   ]
  },
  {
   "cell_type": "code",
   "execution_count": 404,
   "metadata": {},
   "outputs": [],
   "source": [
    "df = pd.merge(violation_df,\n",
    "              data_df[['inspection_id','inspection_type','risk','results','aka_name','latitude','longitude']],\n",
    "              on = 'inspection_id')"
   ]
  },
  {
   "cell_type": "code",
   "execution_count": 405,
   "metadata": {},
   "outputs": [],
   "source": [
    "df = df.drop(['Unnamed: 0'],axis=1)"
   ]
  },
  {
   "cell_type": "code",
   "execution_count": 406,
   "metadata": {},
   "outputs": [
    {
     "data": {
      "text/html": [
       "<div>\n",
       "<style scoped>\n",
       "    .dataframe tbody tr th:only-of-type {\n",
       "        vertical-align: middle;\n",
       "    }\n",
       "\n",
       "    .dataframe tbody tr th {\n",
       "        vertical-align: top;\n",
       "    }\n",
       "\n",
       "    .dataframe thead th {\n",
       "        text-align: right;\n",
       "    }\n",
       "</style>\n",
       "<table border=\"1\" class=\"dataframe\">\n",
       "  <thead>\n",
       "    <tr style=\"text-align: right;\">\n",
       "      <th></th>\n",
       "      <th>inspection_id</th>\n",
       "      <th>license_</th>\n",
       "      <th>violation_count</th>\n",
       "      <th>Management</th>\n",
       "      <th>Hygienic Practices</th>\n",
       "      <th>Food Preperation</th>\n",
       "      <th>Pests &amp; Rodents</th>\n",
       "      <th>Utensils &amp; Equipment</th>\n",
       "      <th>Phyiscal Facilities</th>\n",
       "      <th>Compliance</th>\n",
       "      <th>inspection_type</th>\n",
       "      <th>risk</th>\n",
       "      <th>results</th>\n",
       "      <th>aka_name</th>\n",
       "      <th>latitude</th>\n",
       "      <th>longitude</th>\n",
       "    </tr>\n",
       "  </thead>\n",
       "  <tbody>\n",
       "    <tr>\n",
       "      <th>0</th>\n",
       "      <td>2320519</td>\n",
       "      <td>2002822.0</td>\n",
       "      <td>0</td>\n",
       "      <td>0</td>\n",
       "      <td>0</td>\n",
       "      <td>0</td>\n",
       "      <td>0</td>\n",
       "      <td>0</td>\n",
       "      <td>0</td>\n",
       "      <td>0</td>\n",
       "      <td>Complaint Re-Inspection</td>\n",
       "      <td>Risk 1 (High)</td>\n",
       "      <td>Pass</td>\n",
       "      <td>SALAM RESTAURANT</td>\n",
       "      <td>41.965719</td>\n",
       "      <td>-87.708538</td>\n",
       "    </tr>\n",
       "    <tr>\n",
       "      <th>1</th>\n",
       "      <td>2320509</td>\n",
       "      <td>2694960.0</td>\n",
       "      <td>8</td>\n",
       "      <td>3</td>\n",
       "      <td>1</td>\n",
       "      <td>0</td>\n",
       "      <td>0</td>\n",
       "      <td>0</td>\n",
       "      <td>4</td>\n",
       "      <td>0</td>\n",
       "      <td>License Re-Inspection</td>\n",
       "      <td>Risk 1 (High)</td>\n",
       "      <td>Fail</td>\n",
       "      <td>TAQUERIA EL DORADO</td>\n",
       "      <td>41.968820</td>\n",
       "      <td>-87.682292</td>\n",
       "    </tr>\n",
       "    <tr>\n",
       "      <th>2</th>\n",
       "      <td>2320368</td>\n",
       "      <td>2215799.0</td>\n",
       "      <td>3</td>\n",
       "      <td>0</td>\n",
       "      <td>1</td>\n",
       "      <td>0</td>\n",
       "      <td>0</td>\n",
       "      <td>0</td>\n",
       "      <td>2</td>\n",
       "      <td>0</td>\n",
       "      <td>License</td>\n",
       "      <td>Risk 1 (High)</td>\n",
       "      <td>Pass</td>\n",
       "      <td>GADS HILL CHILD CARE CENTER</td>\n",
       "      <td>41.862273</td>\n",
       "      <td>-87.692703</td>\n",
       "    </tr>\n",
       "    <tr>\n",
       "      <th>3</th>\n",
       "      <td>2320374</td>\n",
       "      <td>1909364.0</td>\n",
       "      <td>5</td>\n",
       "      <td>1</td>\n",
       "      <td>0</td>\n",
       "      <td>0</td>\n",
       "      <td>1</td>\n",
       "      <td>1</td>\n",
       "      <td>1</td>\n",
       "      <td>1</td>\n",
       "      <td>Complaint Re-Inspection</td>\n",
       "      <td>Risk 2 (Medium)</td>\n",
       "      <td>Fail</td>\n",
       "      <td>DUNKIN DONUTS/BASKIN ROBBINS</td>\n",
       "      <td>41.766871</td>\n",
       "      <td>-87.722317</td>\n",
       "    </tr>\n",
       "    <tr>\n",
       "      <th>4</th>\n",
       "      <td>2320419</td>\n",
       "      <td>2689437.0</td>\n",
       "      <td>4</td>\n",
       "      <td>0</td>\n",
       "      <td>0</td>\n",
       "      <td>1</td>\n",
       "      <td>2</td>\n",
       "      <td>0</td>\n",
       "      <td>1</td>\n",
       "      <td>0</td>\n",
       "      <td>License</td>\n",
       "      <td>Risk 3 (Low)</td>\n",
       "      <td>Fail</td>\n",
       "      <td>FULLERTON DOLLAR PLUS</td>\n",
       "      <td>41.923991</td>\n",
       "      <td>-87.756519</td>\n",
       "    </tr>\n",
       "  </tbody>\n",
       "</table>\n",
       "</div>"
      ],
      "text/plain": [
       "   inspection_id   license_  violation_count  Management  Hygienic Practices  \\\n",
       "0        2320519  2002822.0                0           0                   0   \n",
       "1        2320509  2694960.0                8           3                   1   \n",
       "2        2320368  2215799.0                3           0                   1   \n",
       "3        2320374  1909364.0                5           1                   0   \n",
       "4        2320419  2689437.0                4           0                   0   \n",
       "\n",
       "   Food Preperation  Pests & Rodents  Utensils & Equipment  \\\n",
       "0                 0                0                     0   \n",
       "1                 0                0                     0   \n",
       "2                 0                0                     0   \n",
       "3                 0                1                     1   \n",
       "4                 1                2                     0   \n",
       "\n",
       "   Phyiscal Facilities  Compliance          inspection_type             risk  \\\n",
       "0                    0           0  Complaint Re-Inspection    Risk 1 (High)   \n",
       "1                    4           0    License Re-Inspection    Risk 1 (High)   \n",
       "2                    2           0                  License    Risk 1 (High)   \n",
       "3                    1           1  Complaint Re-Inspection  Risk 2 (Medium)   \n",
       "4                    1           0                  License     Risk 3 (Low)   \n",
       "\n",
       "  results                      aka_name   latitude  longitude  \n",
       "0    Pass              SALAM RESTAURANT  41.965719 -87.708538  \n",
       "1    Fail            TAQUERIA EL DORADO  41.968820 -87.682292  \n",
       "2    Pass   GADS HILL CHILD CARE CENTER  41.862273 -87.692703  \n",
       "3    Fail  DUNKIN DONUTS/BASKIN ROBBINS  41.766871 -87.722317  \n",
       "4    Fail         FULLERTON DOLLAR PLUS  41.923991 -87.756519  "
      ]
     },
     "execution_count": 406,
     "metadata": {},
     "output_type": "execute_result"
    }
   ],
   "source": [
    "df.head()"
   ]
  },
  {
   "cell_type": "code",
   "execution_count": 407,
   "metadata": {},
   "outputs": [],
   "source": [
    "df['logistic_model_prediction'] = np.zeros(len(df.risk))\n",
    "df['random_forest_prediction'] = np.zeros(len(df.risk))"
   ]
  },
  {
   "cell_type": "code",
   "execution_count": 390,
   "metadata": {},
   "outputs": [],
   "source": [
    "col = []\n",
    "\n",
    "for index, row in df.iterrows():\n",
    "#     print(row.results)\n",
    "    if (row.results == 'Pass w/ Conditions'):\n",
    "        col.append(1)\n",
    "    elif (row.results == 'Pass'):\n",
    "        col.append(1)\n",
    "    elif (row.results == 'Fail'):\n",
    "        col.append(0)\n",
    "    else:\n",
    "        col.append(3)"
   ]
  },
  {
   "cell_type": "code",
   "execution_count": 391,
   "metadata": {},
   "outputs": [],
   "source": [
    "df['binary_results'] = col"
   ]
  },
  {
   "cell_type": "code",
   "execution_count": 392,
   "metadata": {},
   "outputs": [
    {
     "data": {
      "text/plain": [
       "14063"
      ]
     },
     "execution_count": 392,
     "metadata": {},
     "output_type": "execute_result"
    }
   ],
   "source": [
    "len(df['binary_results'])"
   ]
  },
  {
   "cell_type": "code",
   "execution_count": 393,
   "metadata": {},
   "outputs": [],
   "source": [
    "df.drop(df[df['binary_results']==3].index, inplace = True)"
   ]
  },
  {
   "cell_type": "code",
   "execution_count": 394,
   "metadata": {},
   "outputs": [],
   "source": [
    "df['risk'] = df['risk'].apply(str)"
   ]
  },
  {
   "cell_type": "code",
   "execution_count": 395,
   "metadata": {},
   "outputs": [],
   "source": [
    "inspection_type_OH = pd.get_dummies(df['inspection_type'])"
   ]
  },
  {
   "cell_type": "code",
   "execution_count": 396,
   "metadata": {},
   "outputs": [],
   "source": [
    "risk_OH = pd.get_dummies(df['risk'])"
   ]
  },
  {
   "cell_type": "code",
   "execution_count": 397,
   "metadata": {},
   "outputs": [
    {
     "data": {
      "text/html": [
       "<div>\n",
       "<style scoped>\n",
       "    .dataframe tbody tr th:only-of-type {\n",
       "        vertical-align: middle;\n",
       "    }\n",
       "\n",
       "    .dataframe tbody tr th {\n",
       "        vertical-align: top;\n",
       "    }\n",
       "\n",
       "    .dataframe thead th {\n",
       "        text-align: right;\n",
       "    }\n",
       "</style>\n",
       "<table border=\"1\" class=\"dataframe\">\n",
       "  <thead>\n",
       "    <tr style=\"text-align: right;\">\n",
       "      <th></th>\n",
       "      <th>inspection_id</th>\n",
       "      <th>license_</th>\n",
       "      <th>violation_count</th>\n",
       "      <th>Management</th>\n",
       "      <th>Hygienic Practices</th>\n",
       "      <th>Food Preperation</th>\n",
       "      <th>Pests &amp; Rodents</th>\n",
       "      <th>Utensils &amp; Equipment</th>\n",
       "      <th>Phyiscal Facilities</th>\n",
       "      <th>Compliance</th>\n",
       "      <th>binary_results</th>\n",
       "    </tr>\n",
       "  </thead>\n",
       "  <tbody>\n",
       "    <tr>\n",
       "      <th>0</th>\n",
       "      <td>2320519</td>\n",
       "      <td>2002822.0</td>\n",
       "      <td>0</td>\n",
       "      <td>0</td>\n",
       "      <td>0</td>\n",
       "      <td>0</td>\n",
       "      <td>0</td>\n",
       "      <td>0</td>\n",
       "      <td>0</td>\n",
       "      <td>0</td>\n",
       "      <td>1</td>\n",
       "    </tr>\n",
       "    <tr>\n",
       "      <th>1</th>\n",
       "      <td>2320509</td>\n",
       "      <td>2694960.0</td>\n",
       "      <td>8</td>\n",
       "      <td>3</td>\n",
       "      <td>1</td>\n",
       "      <td>0</td>\n",
       "      <td>0</td>\n",
       "      <td>0</td>\n",
       "      <td>4</td>\n",
       "      <td>0</td>\n",
       "      <td>0</td>\n",
       "    </tr>\n",
       "    <tr>\n",
       "      <th>2</th>\n",
       "      <td>2320368</td>\n",
       "      <td>2215799.0</td>\n",
       "      <td>3</td>\n",
       "      <td>0</td>\n",
       "      <td>1</td>\n",
       "      <td>0</td>\n",
       "      <td>0</td>\n",
       "      <td>0</td>\n",
       "      <td>2</td>\n",
       "      <td>0</td>\n",
       "      <td>1</td>\n",
       "    </tr>\n",
       "    <tr>\n",
       "      <th>3</th>\n",
       "      <td>2320374</td>\n",
       "      <td>1909364.0</td>\n",
       "      <td>5</td>\n",
       "      <td>1</td>\n",
       "      <td>0</td>\n",
       "      <td>0</td>\n",
       "      <td>1</td>\n",
       "      <td>1</td>\n",
       "      <td>1</td>\n",
       "      <td>1</td>\n",
       "      <td>0</td>\n",
       "    </tr>\n",
       "    <tr>\n",
       "      <th>4</th>\n",
       "      <td>2320419</td>\n",
       "      <td>2689437.0</td>\n",
       "      <td>4</td>\n",
       "      <td>0</td>\n",
       "      <td>0</td>\n",
       "      <td>1</td>\n",
       "      <td>2</td>\n",
       "      <td>0</td>\n",
       "      <td>1</td>\n",
       "      <td>0</td>\n",
       "      <td>0</td>\n",
       "    </tr>\n",
       "  </tbody>\n",
       "</table>\n",
       "</div>"
      ],
      "text/plain": [
       "   inspection_id   license_  violation_count  Management  Hygienic Practices  \\\n",
       "0        2320519  2002822.0                0           0                   0   \n",
       "1        2320509  2694960.0                8           3                   1   \n",
       "2        2320368  2215799.0                3           0                   1   \n",
       "3        2320374  1909364.0                5           1                   0   \n",
       "4        2320419  2689437.0                4           0                   0   \n",
       "\n",
       "   Food Preperation  Pests & Rodents  Utensils & Equipment  \\\n",
       "0                 0                0                     0   \n",
       "1                 0                0                     0   \n",
       "2                 0                0                     0   \n",
       "3                 0                1                     1   \n",
       "4                 1                2                     0   \n",
       "\n",
       "   Phyiscal Facilities  Compliance  binary_results  \n",
       "0                    0           0               1  \n",
       "1                    4           0               0  \n",
       "2                    2           0               1  \n",
       "3                    1           1               0  \n",
       "4                    1           0               0  "
      ]
     },
     "execution_count": 397,
     "metadata": {},
     "output_type": "execute_result"
    }
   ],
   "source": [
    "df = df.drop(['inspection_type','risk','results'],axis=1)\n",
    "df.head()"
   ]
  },
  {
   "cell_type": "code",
   "execution_count": 398,
   "metadata": {},
   "outputs": [],
   "source": [
    "df = pd.concat([df,inspection_type_OH,risk_OH], axis=1)"
   ]
  },
  {
   "cell_type": "code",
   "execution_count": 399,
   "metadata": {},
   "outputs": [],
   "source": [
    "from sklearn.model_selection import train_test_split\n",
    "y = df.binary_results\n",
    "X = df.drop(['binary_results','inspection_id','license_'], axis=1)\n",
    "# X_train, X_valid, y_train, y_valid = train_test_split(X,y,train_size=0.8, test_size=0.2,random_state=0)\n",
    "\n",
    "# my_cols = data[['risk','inspection_type']].columns\n",
    "# X_train = X_train_full[my_cols].copy()\n",
    "# X_valid = X_valid_full[my_cols].copy()"
   ]
  },
  {
   "cell_type": "code",
   "execution_count": 200,
   "metadata": {},
   "outputs": [],
   "source": [
    "# # get the dummies (one hot encoding)\n",
    "\n",
    "# X_train_OH = pd.get_dummies(X_train['risk'])\n",
    "# X_valid_OH = pd.get_dummies(X_valid['risk'])\n",
    "\n",
    "# X_train_OH_2 = pd.get_dummies(X_train['inspection_type'])\n",
    "# X_valid_OH_2 = pd.get_dummies(X_valid['inspection_type'])"
   ]
  },
  {
   "cell_type": "code",
   "execution_count": 201,
   "metadata": {},
   "outputs": [],
   "source": [
    "# # concatenate all of the columns together\n",
    "\n",
    "# OH_X_train = pd.concat([X_train['avg_violations'],X_train['times_inspected'], X_train_OH, X_train_OH_2], axis=1)\n",
    "# OH_X_valid = pd.concat([X_valid['avg_violations'],X_valid['times_inspected'], X_valid_OH, X_valid_OH_2], axis=1)"
   ]
  },
  {
   "cell_type": "code",
   "execution_count": 282,
   "metadata": {},
   "outputs": [],
   "source": [
    "OH_X_valid = OH_X_valid.drop(['logistic_model_prediction'],axis=1)"
   ]
  },
  {
   "cell_type": "code",
   "execution_count": 283,
   "metadata": {},
   "outputs": [
    {
     "data": {
      "text/plain": [
       "Index(['avg_violations', 'times_inspected', 'Risk 1 (High)', 'Risk 2 (Medium)',\n",
       "       'Risk 3 (Low)', 'Canvass', 'Canvass Re-Inspection', 'Complaint',\n",
       "       'Complaint Re-Inspection', 'License', 'License Re-Inspection',\n",
       "       'Recent Inspection', 'Short Form Complaint', 'Suspected Food Poisoning',\n",
       "       'Suspected Food Poisoning Re-inspection', 'Consultation'],\n",
       "      dtype='object')"
      ]
     },
     "execution_count": 283,
     "metadata": {},
     "output_type": "execute_result"
    }
   ],
   "source": [
    "OH_X_valid.columns"
   ]
  },
  {
   "cell_type": "code",
   "execution_count": 373,
   "metadata": {},
   "outputs": [],
   "source": [
    "from sklearn.ensemble import RandomForestClassifier\n",
    "from sklearn.linear_model import LogisticRegression\n",
    "from sklearn.metrics import average_precision_score, accuracy_score\n",
    "\n",
    "# Function for comparing different approaches\n",
    "rf_model = RandomForestClassifier(n_estimators=100, random_state=0)\n",
    "rf_model.fit(X_train, y_train)\n",
    "rf_preds_valid = rf_model.predict(X_valid)\n",
    "rf_preds_train = rf_model.predict(X_train)\n",
    "rf_score_valid = rf_model.score(X_valid, y_valid)\n",
    "rf_score_train = rf_model.score(X_train, y_train)\n",
    "\n",
    "rf_accuracy_score = accuracy_score(y_valid,rf_preds_valid)\n",
    "# return mean_squared_error(y_valid, preds_valid), r2_score(y_valid, preds_valid), preds_valid, preds_train, score_valid, score_train\n",
    "\n",
    "\n",
    "\n",
    "logistic_model = LogisticRegression(solver='lbfgs',max_iter=500)\n",
    "logistic_model.fit(X_train, y_train)\n",
    "logistic_preds_valid = logistic_model.predict(X_valid)\n",
    "logistic_preds_train = logistic_model.predict(X_train)\n",
    "logistic_score_valid = logistic_model.score(X_valid, y_valid)\n",
    "logistic_score_train = logistic_model.score(X_train, y_train)\n",
    "\n",
    "y_score = logistic_model.decision_function(X_valid)\n",
    "logistic_avg_precision = average_precision_score(y_valid, y_score)\n",
    "\n",
    "logistic_accuracy_score = accuracy_score(y_valid,logistic_preds_valid)\n",
    "\n",
    "# return mean_squared_error(y_valid, preds_valid), r2_score(y_valid, preds_valid), preds_valid, preds_train, score_valid, score_train"
   ]
  },
  {
   "cell_type": "code",
   "execution_count": 374,
   "metadata": {},
   "outputs": [
    {
     "name": "stdout",
     "output_type": "stream",
     "text": [
      "training score: 0.9546061415220294\n",
      "testing/validating score: 0.8390143737166325\n",
      "Accuracy score: 0.84\n"
     ]
    }
   ],
   "source": [
    "# Random Forest Classification model\n",
    "\n",
    "print(f\"training score: {rf_score_train}\")\n",
    "print(f\"testing/validating score: {rf_score_valid}\")\n",
    "print('Accuracy score: {0:0.2f}'.format(rf_accuracy_score))"
   ]
  },
  {
   "cell_type": "code",
   "execution_count": 375,
   "metadata": {},
   "outputs": [
    {
     "name": "stdout",
     "output_type": "stream",
     "text": [
      "training score: 0.8394782787306152\n",
      "testing/validating score: 0.8340862422997947\n",
      "Average precision-recall score: 0.95\n",
      "Accuracy score: 0.83\n"
     ]
    }
   ],
   "source": [
    "# Logistic Regression model\n",
    "\n",
    "print(f\"training score: {logistic_score_train}\")\n",
    "print(f\"testing/validating score: {logistic_score_valid}\")\n",
    "print('Average precision-recall score: {0:0.2f}'.format(logistic_avg_precision))\n",
    "print('Accuracy score: {0:0.2f}'.format(logistic_accuracy_score))"
   ]
  },
  {
   "cell_type": "code",
   "execution_count": 359,
   "metadata": {},
   "outputs": [
    {
     "data": {
      "text/plain": [
       "(array([0, 1]), array([ 407, 2028]))"
      ]
     },
     "execution_count": 359,
     "metadata": {},
     "output_type": "execute_result"
    }
   ],
   "source": [
    "# Logistic one hot encoding predictions\n",
    "\n",
    "preds_valid = score_dataset(X_train, X_valid, y_train, y_valid)[2]\n",
    "preds_train = score_dataset(X_train, X_valid, y_train, y_valid)[3]\n",
    "np.unique(preds_valid,return_counts = True)"
   ]
  },
  {
   "cell_type": "code",
   "execution_count": 363,
   "metadata": {},
   "outputs": [
    {
     "data": {
      "text/plain": [
       "(array([0, 1]), array([ 475, 1960]))"
      ]
     },
     "execution_count": 363,
     "metadata": {},
     "output_type": "execute_result"
    }
   ],
   "source": [
    "# Random Forest one hot encoding predictions\n",
    "\n",
    "preds_valid = score_dataset(X_train, X_valid, y_train, y_valid)[2]\n",
    "preds_train = score_dataset(X_train, X_valid, y_train, y_valid)[3]\n",
    "np.unique(preds_valid,return_counts = True)"
   ]
  },
  {
   "cell_type": "code",
   "execution_count": 400,
   "metadata": {},
   "outputs": [],
   "source": [
    "rf_full_predictions = rf_model.predict(X)\n",
    "logistic_full_predictions = logistic_model.predict(X)"
   ]
  },
  {
   "cell_type": "code",
   "execution_count": 401,
   "metadata": {},
   "outputs": [],
   "source": [
    "X['logistic_model_predictions'] = logistic_full_predictions\n",
    "X['random_forest_predictions'] = rf_full_predictions"
   ]
  },
  {
   "cell_type": "code",
   "execution_count": 402,
   "metadata": {},
   "outputs": [
    {
     "data": {
      "text/html": [
       "<div>\n",
       "<style scoped>\n",
       "    .dataframe tbody tr th:only-of-type {\n",
       "        vertical-align: middle;\n",
       "    }\n",
       "\n",
       "    .dataframe tbody tr th {\n",
       "        vertical-align: top;\n",
       "    }\n",
       "\n",
       "    .dataframe thead th {\n",
       "        text-align: right;\n",
       "    }\n",
       "</style>\n",
       "<table border=\"1\" class=\"dataframe\">\n",
       "  <thead>\n",
       "    <tr style=\"text-align: right;\">\n",
       "      <th></th>\n",
       "      <th>violation_count</th>\n",
       "      <th>Management</th>\n",
       "      <th>Hygienic Practices</th>\n",
       "      <th>Food Preperation</th>\n",
       "      <th>Pests &amp; Rodents</th>\n",
       "      <th>Utensils &amp; Equipment</th>\n",
       "      <th>Phyiscal Facilities</th>\n",
       "      <th>Compliance</th>\n",
       "      <th>Canvass</th>\n",
       "      <th>Canvass Re-Inspection</th>\n",
       "      <th>...</th>\n",
       "      <th>License Re-Inspection</th>\n",
       "      <th>Recent Inspection</th>\n",
       "      <th>Short Form Complaint</th>\n",
       "      <th>Suspected Food Poisoning</th>\n",
       "      <th>Suspected Food Poisoning Re-inspection</th>\n",
       "      <th>Risk 1 (High)</th>\n",
       "      <th>Risk 2 (Medium)</th>\n",
       "      <th>Risk 3 (Low)</th>\n",
       "      <th>logistic_model_predictions</th>\n",
       "      <th>random_forest_predictions</th>\n",
       "    </tr>\n",
       "  </thead>\n",
       "  <tbody>\n",
       "    <tr>\n",
       "      <th>0</th>\n",
       "      <td>0</td>\n",
       "      <td>0</td>\n",
       "      <td>0</td>\n",
       "      <td>0</td>\n",
       "      <td>0</td>\n",
       "      <td>0</td>\n",
       "      <td>0</td>\n",
       "      <td>0</td>\n",
       "      <td>0</td>\n",
       "      <td>0</td>\n",
       "      <td>...</td>\n",
       "      <td>0</td>\n",
       "      <td>0</td>\n",
       "      <td>0</td>\n",
       "      <td>0</td>\n",
       "      <td>0</td>\n",
       "      <td>1</td>\n",
       "      <td>0</td>\n",
       "      <td>0</td>\n",
       "      <td>1</td>\n",
       "      <td>1</td>\n",
       "    </tr>\n",
       "    <tr>\n",
       "      <th>1</th>\n",
       "      <td>8</td>\n",
       "      <td>3</td>\n",
       "      <td>1</td>\n",
       "      <td>0</td>\n",
       "      <td>0</td>\n",
       "      <td>0</td>\n",
       "      <td>4</td>\n",
       "      <td>0</td>\n",
       "      <td>0</td>\n",
       "      <td>0</td>\n",
       "      <td>...</td>\n",
       "      <td>1</td>\n",
       "      <td>0</td>\n",
       "      <td>0</td>\n",
       "      <td>0</td>\n",
       "      <td>0</td>\n",
       "      <td>1</td>\n",
       "      <td>0</td>\n",
       "      <td>0</td>\n",
       "      <td>1</td>\n",
       "      <td>0</td>\n",
       "    </tr>\n",
       "    <tr>\n",
       "      <th>2</th>\n",
       "      <td>3</td>\n",
       "      <td>0</td>\n",
       "      <td>1</td>\n",
       "      <td>0</td>\n",
       "      <td>0</td>\n",
       "      <td>0</td>\n",
       "      <td>2</td>\n",
       "      <td>0</td>\n",
       "      <td>0</td>\n",
       "      <td>0</td>\n",
       "      <td>...</td>\n",
       "      <td>0</td>\n",
       "      <td>0</td>\n",
       "      <td>0</td>\n",
       "      <td>0</td>\n",
       "      <td>0</td>\n",
       "      <td>1</td>\n",
       "      <td>0</td>\n",
       "      <td>0</td>\n",
       "      <td>1</td>\n",
       "      <td>1</td>\n",
       "    </tr>\n",
       "    <tr>\n",
       "      <th>3</th>\n",
       "      <td>5</td>\n",
       "      <td>1</td>\n",
       "      <td>0</td>\n",
       "      <td>0</td>\n",
       "      <td>1</td>\n",
       "      <td>1</td>\n",
       "      <td>1</td>\n",
       "      <td>1</td>\n",
       "      <td>0</td>\n",
       "      <td>0</td>\n",
       "      <td>...</td>\n",
       "      <td>0</td>\n",
       "      <td>0</td>\n",
       "      <td>0</td>\n",
       "      <td>0</td>\n",
       "      <td>0</td>\n",
       "      <td>0</td>\n",
       "      <td>1</td>\n",
       "      <td>0</td>\n",
       "      <td>0</td>\n",
       "      <td>0</td>\n",
       "    </tr>\n",
       "    <tr>\n",
       "      <th>4</th>\n",
       "      <td>4</td>\n",
       "      <td>0</td>\n",
       "      <td>0</td>\n",
       "      <td>1</td>\n",
       "      <td>2</td>\n",
       "      <td>0</td>\n",
       "      <td>1</td>\n",
       "      <td>0</td>\n",
       "      <td>0</td>\n",
       "      <td>0</td>\n",
       "      <td>...</td>\n",
       "      <td>0</td>\n",
       "      <td>0</td>\n",
       "      <td>0</td>\n",
       "      <td>0</td>\n",
       "      <td>0</td>\n",
       "      <td>0</td>\n",
       "      <td>0</td>\n",
       "      <td>1</td>\n",
       "      <td>0</td>\n",
       "      <td>0</td>\n",
       "    </tr>\n",
       "  </tbody>\n",
       "</table>\n",
       "<p>5 rows × 24 columns</p>\n",
       "</div>"
      ],
      "text/plain": [
       "   violation_count  Management  Hygienic Practices  Food Preperation  \\\n",
       "0                0           0                   0                 0   \n",
       "1                8           3                   1                 0   \n",
       "2                3           0                   1                 0   \n",
       "3                5           1                   0                 0   \n",
       "4                4           0                   0                 1   \n",
       "\n",
       "   Pests & Rodents  Utensils & Equipment  Phyiscal Facilities  Compliance  \\\n",
       "0                0                     0                    0           0   \n",
       "1                0                     0                    4           0   \n",
       "2                0                     0                    2           0   \n",
       "3                1                     1                    1           1   \n",
       "4                2                     0                    1           0   \n",
       "\n",
       "   Canvass  Canvass Re-Inspection  ...  License Re-Inspection  \\\n",
       "0        0                      0  ...                      0   \n",
       "1        0                      0  ...                      1   \n",
       "2        0                      0  ...                      0   \n",
       "3        0                      0  ...                      0   \n",
       "4        0                      0  ...                      0   \n",
       "\n",
       "   Recent Inspection  Short Form Complaint  Suspected Food Poisoning  \\\n",
       "0                  0                     0                         0   \n",
       "1                  0                     0                         0   \n",
       "2                  0                     0                         0   \n",
       "3                  0                     0                         0   \n",
       "4                  0                     0                         0   \n",
       "\n",
       "   Suspected Food Poisoning Re-inspection  Risk 1 (High)  Risk 2 (Medium)  \\\n",
       "0                                       0              1                0   \n",
       "1                                       0              1                0   \n",
       "2                                       0              1                0   \n",
       "3                                       0              0                1   \n",
       "4                                       0              0                0   \n",
       "\n",
       "   Risk 3 (Low)  logistic_model_predictions  random_forest_predictions  \n",
       "0             0                           1                          1  \n",
       "1             0                           1                          0  \n",
       "2             0                           1                          1  \n",
       "3             0                           0                          0  \n",
       "4             1                           0                          0  \n",
       "\n",
       "[5 rows x 24 columns]"
      ]
     },
     "execution_count": 402,
     "metadata": {},
     "output_type": "execute_result"
    }
   ],
   "source": [
    "X.head()"
   ]
  },
  {
   "cell_type": "code",
   "execution_count": 403,
   "metadata": {},
   "outputs": [],
   "source": [
    "prediction_indices = X.index"
   ]
  },
  {
   "cell_type": "code",
   "execution_count": 409,
   "metadata": {},
   "outputs": [],
   "source": [
    "for x in prediction_indices:\n",
    "    df.loc[x, 'logistic_model_prediction'] = X.loc[x]['logistic_model_predictions']\n",
    "    df.loc[x, 'random_forest_prediction'] = X.loc[x]['random_forest_predictions']    "
   ]
  },
  {
   "cell_type": "code",
   "execution_count": 410,
   "metadata": {},
   "outputs": [
    {
     "data": {
      "text/html": [
       "<div>\n",
       "<style scoped>\n",
       "    .dataframe tbody tr th:only-of-type {\n",
       "        vertical-align: middle;\n",
       "    }\n",
       "\n",
       "    .dataframe tbody tr th {\n",
       "        vertical-align: top;\n",
       "    }\n",
       "\n",
       "    .dataframe thead th {\n",
       "        text-align: right;\n",
       "    }\n",
       "</style>\n",
       "<table border=\"1\" class=\"dataframe\">\n",
       "  <thead>\n",
       "    <tr style=\"text-align: right;\">\n",
       "      <th></th>\n",
       "      <th>inspection_id</th>\n",
       "      <th>license_</th>\n",
       "      <th>violation_count</th>\n",
       "      <th>Management</th>\n",
       "      <th>Hygienic Practices</th>\n",
       "      <th>Food Preperation</th>\n",
       "      <th>Pests &amp; Rodents</th>\n",
       "      <th>Utensils &amp; Equipment</th>\n",
       "      <th>Phyiscal Facilities</th>\n",
       "      <th>Compliance</th>\n",
       "      <th>inspection_type</th>\n",
       "      <th>risk</th>\n",
       "      <th>results</th>\n",
       "      <th>aka_name</th>\n",
       "      <th>latitude</th>\n",
       "      <th>longitude</th>\n",
       "      <th>logistic_model_prediction</th>\n",
       "      <th>random_forest_prediction</th>\n",
       "    </tr>\n",
       "  </thead>\n",
       "  <tbody>\n",
       "    <tr>\n",
       "      <th>0</th>\n",
       "      <td>2320519</td>\n",
       "      <td>2002822.0</td>\n",
       "      <td>0</td>\n",
       "      <td>0</td>\n",
       "      <td>0</td>\n",
       "      <td>0</td>\n",
       "      <td>0</td>\n",
       "      <td>0</td>\n",
       "      <td>0</td>\n",
       "      <td>0</td>\n",
       "      <td>Complaint Re-Inspection</td>\n",
       "      <td>Risk 1 (High)</td>\n",
       "      <td>Pass</td>\n",
       "      <td>SALAM RESTAURANT</td>\n",
       "      <td>41.965719</td>\n",
       "      <td>-87.708538</td>\n",
       "      <td>1.0</td>\n",
       "      <td>1.0</td>\n",
       "    </tr>\n",
       "    <tr>\n",
       "      <th>1</th>\n",
       "      <td>2320509</td>\n",
       "      <td>2694960.0</td>\n",
       "      <td>8</td>\n",
       "      <td>3</td>\n",
       "      <td>1</td>\n",
       "      <td>0</td>\n",
       "      <td>0</td>\n",
       "      <td>0</td>\n",
       "      <td>4</td>\n",
       "      <td>0</td>\n",
       "      <td>License Re-Inspection</td>\n",
       "      <td>Risk 1 (High)</td>\n",
       "      <td>Fail</td>\n",
       "      <td>TAQUERIA EL DORADO</td>\n",
       "      <td>41.968820</td>\n",
       "      <td>-87.682292</td>\n",
       "      <td>1.0</td>\n",
       "      <td>0.0</td>\n",
       "    </tr>\n",
       "    <tr>\n",
       "      <th>2</th>\n",
       "      <td>2320368</td>\n",
       "      <td>2215799.0</td>\n",
       "      <td>3</td>\n",
       "      <td>0</td>\n",
       "      <td>1</td>\n",
       "      <td>0</td>\n",
       "      <td>0</td>\n",
       "      <td>0</td>\n",
       "      <td>2</td>\n",
       "      <td>0</td>\n",
       "      <td>License</td>\n",
       "      <td>Risk 1 (High)</td>\n",
       "      <td>Pass</td>\n",
       "      <td>GADS HILL CHILD CARE CENTER</td>\n",
       "      <td>41.862273</td>\n",
       "      <td>-87.692703</td>\n",
       "      <td>1.0</td>\n",
       "      <td>1.0</td>\n",
       "    </tr>\n",
       "    <tr>\n",
       "      <th>3</th>\n",
       "      <td>2320374</td>\n",
       "      <td>1909364.0</td>\n",
       "      <td>5</td>\n",
       "      <td>1</td>\n",
       "      <td>0</td>\n",
       "      <td>0</td>\n",
       "      <td>1</td>\n",
       "      <td>1</td>\n",
       "      <td>1</td>\n",
       "      <td>1</td>\n",
       "      <td>Complaint Re-Inspection</td>\n",
       "      <td>Risk 2 (Medium)</td>\n",
       "      <td>Fail</td>\n",
       "      <td>DUNKIN DONUTS/BASKIN ROBBINS</td>\n",
       "      <td>41.766871</td>\n",
       "      <td>-87.722317</td>\n",
       "      <td>0.0</td>\n",
       "      <td>0.0</td>\n",
       "    </tr>\n",
       "    <tr>\n",
       "      <th>4</th>\n",
       "      <td>2320419</td>\n",
       "      <td>2689437.0</td>\n",
       "      <td>4</td>\n",
       "      <td>0</td>\n",
       "      <td>0</td>\n",
       "      <td>1</td>\n",
       "      <td>2</td>\n",
       "      <td>0</td>\n",
       "      <td>1</td>\n",
       "      <td>0</td>\n",
       "      <td>License</td>\n",
       "      <td>Risk 3 (Low)</td>\n",
       "      <td>Fail</td>\n",
       "      <td>FULLERTON DOLLAR PLUS</td>\n",
       "      <td>41.923991</td>\n",
       "      <td>-87.756519</td>\n",
       "      <td>0.0</td>\n",
       "      <td>0.0</td>\n",
       "    </tr>\n",
       "  </tbody>\n",
       "</table>\n",
       "</div>"
      ],
      "text/plain": [
       "   inspection_id   license_  violation_count  Management  Hygienic Practices  \\\n",
       "0        2320519  2002822.0                0           0                   0   \n",
       "1        2320509  2694960.0                8           3                   1   \n",
       "2        2320368  2215799.0                3           0                   1   \n",
       "3        2320374  1909364.0                5           1                   0   \n",
       "4        2320419  2689437.0                4           0                   0   \n",
       "\n",
       "   Food Preperation  Pests & Rodents  Utensils & Equipment  \\\n",
       "0                 0                0                     0   \n",
       "1                 0                0                     0   \n",
       "2                 0                0                     0   \n",
       "3                 0                1                     1   \n",
       "4                 1                2                     0   \n",
       "\n",
       "   Phyiscal Facilities  Compliance          inspection_type             risk  \\\n",
       "0                    0           0  Complaint Re-Inspection    Risk 1 (High)   \n",
       "1                    4           0    License Re-Inspection    Risk 1 (High)   \n",
       "2                    2           0                  License    Risk 1 (High)   \n",
       "3                    1           1  Complaint Re-Inspection  Risk 2 (Medium)   \n",
       "4                    1           0                  License     Risk 3 (Low)   \n",
       "\n",
       "  results                      aka_name   latitude  longitude  \\\n",
       "0    Pass              SALAM RESTAURANT  41.965719 -87.708538   \n",
       "1    Fail            TAQUERIA EL DORADO  41.968820 -87.682292   \n",
       "2    Pass   GADS HILL CHILD CARE CENTER  41.862273 -87.692703   \n",
       "3    Fail  DUNKIN DONUTS/BASKIN ROBBINS  41.766871 -87.722317   \n",
       "4    Fail         FULLERTON DOLLAR PLUS  41.923991 -87.756519   \n",
       "\n",
       "   logistic_model_prediction  random_forest_prediction  \n",
       "0                        1.0                       1.0  \n",
       "1                        1.0                       0.0  \n",
       "2                        1.0                       1.0  \n",
       "3                        0.0                       0.0  \n",
       "4                        0.0                       0.0  "
      ]
     },
     "execution_count": 410,
     "metadata": {},
     "output_type": "execute_result"
    }
   ],
   "source": [
    "df.head()"
   ]
  },
  {
   "cell_type": "code",
   "execution_count": 411,
   "metadata": {},
   "outputs": [],
   "source": [
    "df['logistic_model_prediction'] = df['logistic_model_prediction'].fillna(0)\n",
    "df['random_forest_prediction'] = df['random_forest_prediction'].fillna(0)"
   ]
  },
  {
   "cell_type": "code",
   "execution_count": 412,
   "metadata": {},
   "outputs": [
    {
     "data": {
      "text/html": [
       "<div>\n",
       "<style scoped>\n",
       "    .dataframe tbody tr th:only-of-type {\n",
       "        vertical-align: middle;\n",
       "    }\n",
       "\n",
       "    .dataframe tbody tr th {\n",
       "        vertical-align: top;\n",
       "    }\n",
       "\n",
       "    .dataframe thead th {\n",
       "        text-align: right;\n",
       "    }\n",
       "</style>\n",
       "<table border=\"1\" class=\"dataframe\">\n",
       "  <thead>\n",
       "    <tr style=\"text-align: right;\">\n",
       "      <th></th>\n",
       "      <th>inspection_id</th>\n",
       "      <th>license_</th>\n",
       "      <th>violation_count</th>\n",
       "      <th>Management</th>\n",
       "      <th>Hygienic Practices</th>\n",
       "      <th>Food Preperation</th>\n",
       "      <th>Pests &amp; Rodents</th>\n",
       "      <th>Utensils &amp; Equipment</th>\n",
       "      <th>Phyiscal Facilities</th>\n",
       "      <th>Compliance</th>\n",
       "      <th>inspection_type</th>\n",
       "      <th>risk</th>\n",
       "      <th>results</th>\n",
       "      <th>aka_name</th>\n",
       "      <th>latitude</th>\n",
       "      <th>longitude</th>\n",
       "      <th>logistic_model_prediction</th>\n",
       "      <th>random_forest_prediction</th>\n",
       "    </tr>\n",
       "  </thead>\n",
       "  <tbody>\n",
       "    <tr>\n",
       "      <th>0</th>\n",
       "      <td>2320519</td>\n",
       "      <td>2002822.0</td>\n",
       "      <td>0</td>\n",
       "      <td>0</td>\n",
       "      <td>0</td>\n",
       "      <td>0</td>\n",
       "      <td>0</td>\n",
       "      <td>0</td>\n",
       "      <td>0</td>\n",
       "      <td>0</td>\n",
       "      <td>Complaint Re-Inspection</td>\n",
       "      <td>Risk 1 (High)</td>\n",
       "      <td>Pass</td>\n",
       "      <td>SALAM RESTAURANT</td>\n",
       "      <td>41.965719</td>\n",
       "      <td>-87.708538</td>\n",
       "      <td>1.0</td>\n",
       "      <td>1.0</td>\n",
       "    </tr>\n",
       "    <tr>\n",
       "      <th>1</th>\n",
       "      <td>2320509</td>\n",
       "      <td>2694960.0</td>\n",
       "      <td>8</td>\n",
       "      <td>3</td>\n",
       "      <td>1</td>\n",
       "      <td>0</td>\n",
       "      <td>0</td>\n",
       "      <td>0</td>\n",
       "      <td>4</td>\n",
       "      <td>0</td>\n",
       "      <td>License Re-Inspection</td>\n",
       "      <td>Risk 1 (High)</td>\n",
       "      <td>Fail</td>\n",
       "      <td>TAQUERIA EL DORADO</td>\n",
       "      <td>41.968820</td>\n",
       "      <td>-87.682292</td>\n",
       "      <td>1.0</td>\n",
       "      <td>0.0</td>\n",
       "    </tr>\n",
       "    <tr>\n",
       "      <th>2</th>\n",
       "      <td>2320368</td>\n",
       "      <td>2215799.0</td>\n",
       "      <td>3</td>\n",
       "      <td>0</td>\n",
       "      <td>1</td>\n",
       "      <td>0</td>\n",
       "      <td>0</td>\n",
       "      <td>0</td>\n",
       "      <td>2</td>\n",
       "      <td>0</td>\n",
       "      <td>License</td>\n",
       "      <td>Risk 1 (High)</td>\n",
       "      <td>Pass</td>\n",
       "      <td>GADS HILL CHILD CARE CENTER</td>\n",
       "      <td>41.862273</td>\n",
       "      <td>-87.692703</td>\n",
       "      <td>1.0</td>\n",
       "      <td>1.0</td>\n",
       "    </tr>\n",
       "    <tr>\n",
       "      <th>3</th>\n",
       "      <td>2320374</td>\n",
       "      <td>1909364.0</td>\n",
       "      <td>5</td>\n",
       "      <td>1</td>\n",
       "      <td>0</td>\n",
       "      <td>0</td>\n",
       "      <td>1</td>\n",
       "      <td>1</td>\n",
       "      <td>1</td>\n",
       "      <td>1</td>\n",
       "      <td>Complaint Re-Inspection</td>\n",
       "      <td>Risk 2 (Medium)</td>\n",
       "      <td>Fail</td>\n",
       "      <td>DUNKIN DONUTS/BASKIN ROBBINS</td>\n",
       "      <td>41.766871</td>\n",
       "      <td>-87.722317</td>\n",
       "      <td>0.0</td>\n",
       "      <td>0.0</td>\n",
       "    </tr>\n",
       "    <tr>\n",
       "      <th>4</th>\n",
       "      <td>2320419</td>\n",
       "      <td>2689437.0</td>\n",
       "      <td>4</td>\n",
       "      <td>0</td>\n",
       "      <td>0</td>\n",
       "      <td>1</td>\n",
       "      <td>2</td>\n",
       "      <td>0</td>\n",
       "      <td>1</td>\n",
       "      <td>0</td>\n",
       "      <td>License</td>\n",
       "      <td>Risk 3 (Low)</td>\n",
       "      <td>Fail</td>\n",
       "      <td>FULLERTON DOLLAR PLUS</td>\n",
       "      <td>41.923991</td>\n",
       "      <td>-87.756519</td>\n",
       "      <td>0.0</td>\n",
       "      <td>0.0</td>\n",
       "    </tr>\n",
       "  </tbody>\n",
       "</table>\n",
       "</div>"
      ],
      "text/plain": [
       "   inspection_id   license_  violation_count  Management  Hygienic Practices  \\\n",
       "0        2320519  2002822.0                0           0                   0   \n",
       "1        2320509  2694960.0                8           3                   1   \n",
       "2        2320368  2215799.0                3           0                   1   \n",
       "3        2320374  1909364.0                5           1                   0   \n",
       "4        2320419  2689437.0                4           0                   0   \n",
       "\n",
       "   Food Preperation  Pests & Rodents  Utensils & Equipment  \\\n",
       "0                 0                0                     0   \n",
       "1                 0                0                     0   \n",
       "2                 0                0                     0   \n",
       "3                 0                1                     1   \n",
       "4                 1                2                     0   \n",
       "\n",
       "   Phyiscal Facilities  Compliance          inspection_type             risk  \\\n",
       "0                    0           0  Complaint Re-Inspection    Risk 1 (High)   \n",
       "1                    4           0    License Re-Inspection    Risk 1 (High)   \n",
       "2                    2           0                  License    Risk 1 (High)   \n",
       "3                    1           1  Complaint Re-Inspection  Risk 2 (Medium)   \n",
       "4                    1           0                  License     Risk 3 (Low)   \n",
       "\n",
       "  results                      aka_name   latitude  longitude  \\\n",
       "0    Pass              SALAM RESTAURANT  41.965719 -87.708538   \n",
       "1    Fail            TAQUERIA EL DORADO  41.968820 -87.682292   \n",
       "2    Pass   GADS HILL CHILD CARE CENTER  41.862273 -87.692703   \n",
       "3    Fail  DUNKIN DONUTS/BASKIN ROBBINS  41.766871 -87.722317   \n",
       "4    Fail         FULLERTON DOLLAR PLUS  41.923991 -87.756519   \n",
       "\n",
       "   logistic_model_prediction  random_forest_prediction  \n",
       "0                        1.0                       1.0  \n",
       "1                        1.0                       0.0  \n",
       "2                        1.0                       1.0  \n",
       "3                        0.0                       0.0  \n",
       "4                        0.0                       0.0  "
      ]
     },
     "execution_count": 412,
     "metadata": {},
     "output_type": "execute_result"
    }
   ],
   "source": [
    "df.head()"
   ]
  },
  {
   "cell_type": "code",
   "execution_count": 413,
   "metadata": {},
   "outputs": [],
   "source": [
    "df.to_csv('model_results_full.csv',encoding='utf-8',index=False)"
   ]
  },
  {
   "cell_type": "code",
   "execution_count": 415,
   "metadata": {},
   "outputs": [],
   "source": [
    "col = []\n",
    "\n",
    "for index, row in df.iterrows():\n",
    "#     print(row.results)\n",
    "    if (row.results == 'Pass w/ Conditions'):\n",
    "        col.append(1)\n",
    "    elif (row.results == 'Pass'):\n",
    "        col.append(1)\n",
    "    elif (row.results == 'Fail'):\n",
    "        col.append(0)\n",
    "    else:\n",
    "        col.append(3)"
   ]
  },
  {
   "cell_type": "code",
   "execution_count": 416,
   "metadata": {},
   "outputs": [],
   "source": [
    "df['binary_results'] = col"
   ]
  },
  {
   "cell_type": "code",
   "execution_count": 417,
   "metadata": {},
   "outputs": [],
   "source": [
    "df.to_csv('model_results_full.csv',encoding='utf-8',index=False)"
   ]
  },
  {
   "cell_type": "code",
   "execution_count": 264,
   "metadata": {},
   "outputs": [],
   "source": [
    "OH_X_valid['logistic_model_prediction'] = preds_valid"
   ]
  },
  {
   "cell_type": "code",
   "execution_count": 265,
   "metadata": {},
   "outputs": [
    {
     "data": {
      "text/html": [
       "<div>\n",
       "<style scoped>\n",
       "    .dataframe tbody tr th:only-of-type {\n",
       "        vertical-align: middle;\n",
       "    }\n",
       "\n",
       "    .dataframe tbody tr th {\n",
       "        vertical-align: top;\n",
       "    }\n",
       "\n",
       "    .dataframe thead th {\n",
       "        text-align: right;\n",
       "    }\n",
       "</style>\n",
       "<table border=\"1\" class=\"dataframe\">\n",
       "  <thead>\n",
       "    <tr style=\"text-align: right;\">\n",
       "      <th></th>\n",
       "      <th>avg_violations</th>\n",
       "      <th>times_inspected</th>\n",
       "      <th>Risk 1 (High)</th>\n",
       "      <th>Risk 2 (Medium)</th>\n",
       "      <th>Risk 3 (Low)</th>\n",
       "      <th>Canvass</th>\n",
       "      <th>Canvass Re-Inspection</th>\n",
       "      <th>Complaint</th>\n",
       "      <th>Complaint Re-Inspection</th>\n",
       "      <th>License</th>\n",
       "      <th>License Re-Inspection</th>\n",
       "      <th>Recent Inspection</th>\n",
       "      <th>Short Form Complaint</th>\n",
       "      <th>Suspected Food Poisoning</th>\n",
       "      <th>Suspected Food Poisoning Re-inspection</th>\n",
       "      <th>Consultation</th>\n",
       "      <th>logistic_model_prediction</th>\n",
       "    </tr>\n",
       "  </thead>\n",
       "  <tbody>\n",
       "    <tr>\n",
       "      <th>8725</th>\n",
       "      <td>3.0</td>\n",
       "      <td>1</td>\n",
       "      <td>1</td>\n",
       "      <td>0</td>\n",
       "      <td>0</td>\n",
       "      <td>1</td>\n",
       "      <td>0</td>\n",
       "      <td>0</td>\n",
       "      <td>0</td>\n",
       "      <td>0</td>\n",
       "      <td>0</td>\n",
       "      <td>0</td>\n",
       "      <td>0</td>\n",
       "      <td>0</td>\n",
       "      <td>0</td>\n",
       "      <td>0.0</td>\n",
       "      <td>1</td>\n",
       "    </tr>\n",
       "    <tr>\n",
       "      <th>7914</th>\n",
       "      <td>12.0</td>\n",
       "      <td>1</td>\n",
       "      <td>1</td>\n",
       "      <td>0</td>\n",
       "      <td>0</td>\n",
       "      <td>1</td>\n",
       "      <td>0</td>\n",
       "      <td>0</td>\n",
       "      <td>0</td>\n",
       "      <td>0</td>\n",
       "      <td>0</td>\n",
       "      <td>0</td>\n",
       "      <td>0</td>\n",
       "      <td>0</td>\n",
       "      <td>0</td>\n",
       "      <td>0.0</td>\n",
       "      <td>1</td>\n",
       "    </tr>\n",
       "    <tr>\n",
       "      <th>12131</th>\n",
       "      <td>1.0</td>\n",
       "      <td>1</td>\n",
       "      <td>1</td>\n",
       "      <td>0</td>\n",
       "      <td>0</td>\n",
       "      <td>1</td>\n",
       "      <td>0</td>\n",
       "      <td>0</td>\n",
       "      <td>0</td>\n",
       "      <td>0</td>\n",
       "      <td>0</td>\n",
       "      <td>0</td>\n",
       "      <td>0</td>\n",
       "      <td>0</td>\n",
       "      <td>0</td>\n",
       "      <td>0.0</td>\n",
       "      <td>1</td>\n",
       "    </tr>\n",
       "    <tr>\n",
       "      <th>5445</th>\n",
       "      <td>8.0</td>\n",
       "      <td>2</td>\n",
       "      <td>1</td>\n",
       "      <td>0</td>\n",
       "      <td>0</td>\n",
       "      <td>1</td>\n",
       "      <td>0</td>\n",
       "      <td>0</td>\n",
       "      <td>0</td>\n",
       "      <td>0</td>\n",
       "      <td>0</td>\n",
       "      <td>0</td>\n",
       "      <td>0</td>\n",
       "      <td>0</td>\n",
       "      <td>0</td>\n",
       "      <td>0.0</td>\n",
       "      <td>1</td>\n",
       "    </tr>\n",
       "    <tr>\n",
       "      <th>1871</th>\n",
       "      <td>0.0</td>\n",
       "      <td>1</td>\n",
       "      <td>0</td>\n",
       "      <td>0</td>\n",
       "      <td>1</td>\n",
       "      <td>0</td>\n",
       "      <td>0</td>\n",
       "      <td>0</td>\n",
       "      <td>0</td>\n",
       "      <td>1</td>\n",
       "      <td>0</td>\n",
       "      <td>0</td>\n",
       "      <td>0</td>\n",
       "      <td>0</td>\n",
       "      <td>0</td>\n",
       "      <td>0.0</td>\n",
       "      <td>1</td>\n",
       "    </tr>\n",
       "  </tbody>\n",
       "</table>\n",
       "</div>"
      ],
      "text/plain": [
       "       avg_violations  times_inspected  Risk 1 (High)  Risk 2 (Medium)  \\\n",
       "8725              3.0                1              1                0   \n",
       "7914             12.0                1              1                0   \n",
       "12131             1.0                1              1                0   \n",
       "5445              8.0                2              1                0   \n",
       "1871              0.0                1              0                0   \n",
       "\n",
       "       Risk 3 (Low)  Canvass  Canvass Re-Inspection  Complaint  \\\n",
       "8725              0        1                      0          0   \n",
       "7914              0        1                      0          0   \n",
       "12131             0        1                      0          0   \n",
       "5445              0        1                      0          0   \n",
       "1871              1        0                      0          0   \n",
       "\n",
       "       Complaint Re-Inspection  License  License Re-Inspection  \\\n",
       "8725                         0        0                      0   \n",
       "7914                         0        0                      0   \n",
       "12131                        0        0                      0   \n",
       "5445                         0        0                      0   \n",
       "1871                         0        1                      0   \n",
       "\n",
       "       Recent Inspection  Short Form Complaint  Suspected Food Poisoning  \\\n",
       "8725                   0                     0                         0   \n",
       "7914                   0                     0                         0   \n",
       "12131                  0                     0                         0   \n",
       "5445                   0                     0                         0   \n",
       "1871                   0                     0                         0   \n",
       "\n",
       "       Suspected Food Poisoning Re-inspection  Consultation  \\\n",
       "8725                                        0           0.0   \n",
       "7914                                        0           0.0   \n",
       "12131                                       0           0.0   \n",
       "5445                                        0           0.0   \n",
       "1871                                        0           0.0   \n",
       "\n",
       "       logistic_model_prediction  \n",
       "8725                           1  \n",
       "7914                           1  \n",
       "12131                          1  \n",
       "5445                           1  \n",
       "1871                           1  "
      ]
     },
     "execution_count": 265,
     "metadata": {},
     "output_type": "execute_result"
    }
   ],
   "source": [
    "OH_X_valid.head()"
   ]
  },
  {
   "cell_type": "code",
   "execution_count": 266,
   "metadata": {},
   "outputs": [],
   "source": [
    "prediction_indices = OH_X_valid.index"
   ]
  },
  {
   "cell_type": "code",
   "execution_count": 267,
   "metadata": {},
   "outputs": [],
   "source": [
    "for x in prediction_indices:\n",
    "    data.loc[x, 'logistic_model_prediction'] = OH_X_valid.loc[x]['logistic_model_prediction']"
   ]
  },
  {
   "cell_type": "code",
   "execution_count": 273,
   "metadata": {},
   "outputs": [],
   "source": [
    "# data['logistic_model_prediction'] = data['logistic_model_prediction'].fillna(0)\n",
    "# data.loc[data['binary_results']==2].head()"
   ]
  },
  {
   "cell_type": "code",
   "execution_count": 277,
   "metadata": {},
   "outputs": [],
   "source": [
    "data.to_csv('model_results.csv',encoding='utf-8',index=False)"
   ]
  },
  {
   "cell_type": "code",
   "execution_count": 275,
   "metadata": {},
   "outputs": [
    {
     "name": "stdout",
     "output_type": "stream",
     "text": [
      "/Users/evanstroh/Documents/Data_Science_Bootcamp/local_git_repository\r\n"
     ]
    }
   ],
   "source": [
    "!pwd"
   ]
  },
  {
   "cell_type": "code",
   "execution_count": 229,
   "metadata": {},
   "outputs": [
    {
     "data": {
      "text/plain": [
       "Int64Index([ 8725,  7914, 12131,  5445,  1871, 10535,  4823, 11113,  5784,\n",
       "             3188,\n",
       "            ...\n",
       "            11064,  4771,  1577,  1041,  3864,  7679,  7876,  4537, 11501,\n",
       "             8703],\n",
       "           dtype='int64', length=2118)"
      ]
     },
     "execution_count": 229,
     "metadata": {},
     "output_type": "execute_result"
    }
   ],
   "source": [
    "OH_X_valid.index"
   ]
  },
  {
   "cell_type": "code",
   "execution_count": 179,
   "metadata": {},
   "outputs": [
    {
     "data": {
      "image/png": "[encoded data removed]",
      "text/plain": [
       "<Figure size 432x288 with 1 Axes>"
      ]
     },
     "metadata": {
      "needs_background": "light"
     },
     "output_type": "display_data"
    }
   ],
   "source": [
    "%matplotlib inline\n",
    "import matplotlib.pyplot as plt\n",
    "\n",
    "plt.scatter(preds_valid, preds_valid - y_valid)\n",
    "plt.hlines(y=0, xmin=preds_valid.min(), xmax=preds_valid.max())\n",
    "plt.scatter(preds_train, preds_train - y_train)\n",
    "plt.show()"
   ]
  },
  {
   "cell_type": "code",
   "execution_count": 180,
   "metadata": {},
   "outputs": [
    {
     "name": "stdout",
     "output_type": "stream",
     "text": [
      "                           Results: Ordinary least squares\n",
      "=====================================================================================\n",
      "Model:                     OLS                    Adj. R-squared:           0.140    \n",
      "Dependent Variable:        binary_results         AIC:                      1941.0061\n",
      "Date:                      2019-10-27 18:42       BIC:                      2020.2213\n",
      "No. Observations:          2118                   Log-Likelihood:           -956.50  \n",
      "Df Model:                  13                     F-statistic:              27.41    \n",
      "Df Residuals:              2104                   Prob (F-statistic):       1.19e-62 \n",
      "R-squared:                 0.145                  Scale:                    0.14543  \n",
      "-------------------------------------------------------------------------------------\n",
      "                                        Coef.  Std.Err.    t    P>|t|   [0.025 0.975]\n",
      "-------------------------------------------------------------------------------------\n",
      "avg_violations                          0.0137   0.0022  6.2732 0.0000  0.0094 0.0179\n",
      "times_inspected                         0.0849   0.0058 14.5265 0.0000  0.0735 0.0964\n",
      "Risk 1 (High)                           0.6832   0.0366 18.6682 0.0000  0.6115 0.7550\n",
      "Risk 2 (Medium)                         0.6909   0.0402 17.1694 0.0000  0.6120 0.7699\n",
      "Risk 3 (Low)                            0.7648   0.0483 15.8307 0.0000  0.6701 0.8596\n",
      "Canvass                                 0.3191   0.0353  9.0491 0.0000  0.2500 0.3883\n",
      "Canvass Re-Inspection                   0.1017   0.0401  2.5349 0.0113  0.0230 0.1804\n",
      "Complaint                               0.4011   0.0410  9.7815 0.0000  0.3207 0.4815\n",
      "Complaint Re-Inspection                 0.1098   0.0490  2.2418 0.0251  0.0137 0.2058\n",
      "License                                 0.4515   0.0391 11.5491 0.0000  0.3748 0.5281\n",
      "License Re-Inspection                   0.1280   0.0507  2.5249 0.0116  0.0286 0.2275\n",
      "Recent Inspection                      -0.0115   0.1162 -0.0987 0.9214 -0.2394 0.2164\n",
      "Short Form Complaint                    0.1065   0.0634  1.6796 0.0932 -0.0179 0.2309\n",
      "Suspected Food Poisoning                0.4132   0.1217  3.3950 0.0007  0.1745 0.6518\n",
      "Suspected Food Poisoning Re-inspection  0.1195   0.3525  0.3391 0.7345 -0.5717 0.8108\n",
      "Consultation                            0.0000   0.0000     nan    nan  0.0000 0.0000\n",
      "-------------------------------------------------------------------------------------\n",
      "Omnibus:                    240.860             Durbin-Watson:                1.942  \n",
      "Prob(Omnibus):              0.000               Jarque-Bera (JB):             452.942\n",
      "Skew:                       0.735               Prob(JB):                     0.000  \n",
      "Kurtosis:                   4.724               Condition No.:                inf    \n",
      "=====================================================================================\n",
      "* The condition number is large (inf). This might indicate             strong\n",
      "multicollinearity or other numerical problems.\n"
     ]
    },
    {
     "name": "stderr",
     "output_type": "stream",
     "text": [
      "/anaconda3/lib/python3.7/site-packages/statsmodels/regression/linear_model.py:1633: RuntimeWarning: divide by zero encountered in double_scalars\n",
      "  return np.sqrt(eigvals[0]/eigvals[-1])\n",
      "/anaconda3/lib/python3.7/site-packages/statsmodels/base/model.py:1100: RuntimeWarning: invalid value encountered in true_divide\n",
      "  return self.params / self.bse\n",
      "/anaconda3/lib/python3.7/site-packages/scipy/stats/_distn_infrastructure.py:877: RuntimeWarning: invalid value encountered in greater\n",
      "  return (self.a < x) & (x < self.b)\n",
      "/anaconda3/lib/python3.7/site-packages/scipy/stats/_distn_infrastructure.py:877: RuntimeWarning: invalid value encountered in less\n",
      "  return (self.a < x) & (x < self.b)\n",
      "/anaconda3/lib/python3.7/site-packages/scipy/stats/_distn_infrastructure.py:1831: RuntimeWarning: invalid value encountered in less_equal\n",
      "  cond2 = cond0 & (x <= self.a)\n"
     ]
    }
   ],
   "source": [
    "# random forest\n",
    "\n",
    "import statsmodels.api as sm\n",
    "model = sm.OLS(y_valid, OH_X_valid)\n",
    "results = model.fit()\n",
    "print(results.summary2())"
   ]
  },
  {
   "cell_type": "code",
   "execution_count": 181,
   "metadata": {},
   "outputs": [
    {
     "data": {
      "text/plain": [
       "8725     1\n",
       "7914     1\n",
       "12131    1\n",
       "5445     2\n",
       "1871     1\n",
       "Name: binary_results, dtype: int64"
      ]
     },
     "execution_count": 181,
     "metadata": {},
     "output_type": "execute_result"
    }
   ],
   "source": [
    "y_valid[0:5]"
   ]
  },
  {
   "cell_type": "code",
   "execution_count": 182,
   "metadata": {},
   "outputs": [
    {
     "data": {
      "text/plain": [
       "array([1, 1, 1, 2, 1])"
      ]
     },
     "execution_count": 182,
     "metadata": {},
     "output_type": "execute_result"
    }
   ],
   "source": [
    "preds_valid[0:5]"
   ]
  },
  {
   "cell_type": "code",
   "execution_count": 184,
   "metadata": {},
   "outputs": [],
   "source": [
    "# scatter of : y_train, predicted_train"
   ]
  },
  {
   "cell_type": "code",
   "execution_count": 185,
   "metadata": {},
   "outputs": [
    {
     "data": {
      "image/png": "[encoded data removed]",
      "text/plain": [
       "<Figure size 432x288 with 1 Axes>"
      ]
     },
     "metadata": {
      "needs_background": "light"
     },
     "output_type": "display_data"
    }
   ],
   "source": [
    "# random forest\n",
    "\n",
    "plt.scatter(preds_valid, y_valid)\n",
    "plt.show()"
   ]
  },
  {
   "cell_type": "code",
   "execution_count": null,
   "metadata": {},
   "outputs": [],
   "source": []
  }
 ],
 "metadata": {
  "kernelspec": {
   "display_name": "Python 3",
   "language": "python",
   "name": "python3"
  },
  "language_info": {
   "codemirror_mode": {
    "name": "ipython",
    "version": 3
   },
   "file_extension": ".py",
   "mimetype": "text/x-python",
   "name": "python",
   "nbconvert_exporter": "python",
   "pygments_lexer": "ipython3",
   "version": "3.7.3"
  }
 },
 "nbformat": 4,
 "nbformat_minor": 2
}
