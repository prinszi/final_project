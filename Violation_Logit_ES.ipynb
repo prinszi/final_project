{
 "cells": [
  {
   "cell_type": "code",
   "execution_count": 51,
   "metadata": {},
   "outputs": [],
   "source": [
    "import matplotlib.pyplot as plt\n",
    "import pandas as pd\n",
    "import os\n",
    "from sklearn.linear_model import LogisticRegression\n",
    "import numpy as np"
   ]
  },
  {
   "cell_type": "code",
   "execution_count": 75,
   "metadata": {},
   "outputs": [],
   "source": [
    "# BUILD ON 2018 DATA... this is currently calling in 2019 data\n",
    "city_data = \"chicago_food_inspections/inspection_data_2019_v2.csv\""
   ]
  },
  {
   "cell_type": "code",
   "execution_count": 76,
   "metadata": {},
   "outputs": [],
   "source": [
    "data = pd.read_csv(city_data)\n",
    "# data.head()"
   ]
  },
  {
   "cell_type": "code",
   "execution_count": 77,
   "metadata": {},
   "outputs": [],
   "source": [
    "data['logistic_model_prediction'] = np.zeros(len(data.inspection_id))"
   ]
  },
  {
   "cell_type": "code",
   "execution_count": 78,
   "metadata": {},
   "outputs": [],
   "source": [
    "col = []\n",
    "\n",
    "for index, row in data.iterrows():\n",
    "#     print(row.results)\n",
    "    if (row.results == 'Pass w/ Conditions'):\n",
    "        col.append(1)\n",
    "    elif (row.results == 'Pass'):\n",
    "        col.append(1)\n",
    "    elif (row.results == 'Fail'):\n",
    "        col.append(2)\n",
    "    else:\n",
    "        col.append(3)"
   ]
  },
  {
   "cell_type": "code",
   "execution_count": 79,
   "metadata": {},
   "outputs": [],
   "source": [
    "# Assign 0 and 1 for Pass or Fail\n",
    "# data = pd.get_dummies(data, columns=[\"results\"])\n",
    "# data.head()"
   ]
  },
  {
   "cell_type": "code",
   "execution_count": 80,
   "metadata": {},
   "outputs": [],
   "source": [
    "data[\"d_pass\"] = col"
   ]
  },
  {
   "cell_type": "code",
   "execution_count": 82,
   "metadata": {},
   "outputs": [],
   "source": [
    "data.drop(data[data['d_pass']==3].index, inplace = True)"
   ]
  },
  {
   "cell_type": "code",
   "execution_count": 54,
   "metadata": {},
   "outputs": [],
   "source": [
    "# # new = data[\"Name\"].str.split(\" \", n = 1, expand = True) \n",
    "# data['month'] = data['inspection_date'].str.split(\"/\", expand = True)\n",
    "# data.head()"
   ]
  },
  {
   "cell_type": "code",
   "execution_count": 6,
   "metadata": {},
   "outputs": [],
   "source": [
    "# # drop rows where 'no entry = 1', 'out of business = 1' & 'not ready = 1' \n",
    "# data = data[data[\"results_No Entry\"] == 0]\n",
    "# data = data[data[\"results_Not Ready\"] == 0]\n",
    "# data = data[data[\"results_Out of Business\"] == 0]"
   ]
  },
  {
   "cell_type": "code",
   "execution_count": 85,
   "metadata": {},
   "outputs": [],
   "source": [
    "# data.head()"
   ]
  },
  {
   "cell_type": "code",
   "execution_count": 86,
   "metadata": {},
   "outputs": [
    {
     "name": "stdout",
     "output_type": "stream",
     "text": [
      "(10589, 2) (10589,)\n"
     ]
    }
   ],
   "source": [
    "# Assign X (data) and y (target)\n",
    "# add months, violation data when ready\n",
    "# add improved facility and inspection type data\n",
    "\n",
    "# X = data[[\"facility_type\", \"inspection_type\", \"month\"]]\n",
    "\n",
    "X = data[[\"facility_type\", \"inspection_type\"]]\n",
    "y = data[\"d_pass\"]\n",
    "print(X.shape, y.shape)"
   ]
  },
  {
   "cell_type": "code",
   "execution_count": 102,
   "metadata": {},
   "outputs": [
    {
     "data": {
      "text/plain": [
       "1    8247\n",
       "2    2342\n",
       "Name: d_pass, dtype: int64"
      ]
     },
     "execution_count": 102,
     "metadata": {},
     "output_type": "execute_result"
    }
   ],
   "source": [
    "y.value_counts()"
   ]
  },
  {
   "cell_type": "code",
   "execution_count": 103,
   "metadata": {},
   "outputs": [
    {
     "data": {
      "text/plain": [
       "0.7788270847105487"
      ]
     },
     "execution_count": 103,
     "metadata": {},
     "output_type": "execute_result"
    }
   ],
   "source": [
    "total = len(y)\n",
    "8247/total"
   ]
  },
  {
   "cell_type": "code",
   "execution_count": 87,
   "metadata": {},
   "outputs": [
    {
     "data": {
      "text/html": [
       "<div>\n",
       "<style scoped>\n",
       "    .dataframe tbody tr th:only-of-type {\n",
       "        vertical-align: middle;\n",
       "    }\n",
       "\n",
       "    .dataframe tbody tr th {\n",
       "        vertical-align: top;\n",
       "    }\n",
       "\n",
       "    .dataframe thead th {\n",
       "        text-align: right;\n",
       "    }\n",
       "</style>\n",
       "<table border=\"1\" class=\"dataframe\">\n",
       "  <thead>\n",
       "    <tr style=\"text-align: right;\">\n",
       "      <th></th>\n",
       "      <th>facility_type_1023 CHILDERN'S SERVICE FACILITY</th>\n",
       "      <th>facility_type_1023 CHILDERN'S SERVICES FACILITY</th>\n",
       "      <th>facility_type_1023-CHILDREN'S SERVICES FACILITY</th>\n",
       "      <th>facility_type_1475 LIQUOR</th>\n",
       "      <th>facility_type_ADULT DAYCARE</th>\n",
       "      <th>facility_type_ASSISTED LIVING</th>\n",
       "      <th>facility_type_ASSISTED LIVING FACILITY</th>\n",
       "      <th>facility_type_Airport Lounge</th>\n",
       "      <th>facility_type_Assisted Living</th>\n",
       "      <th>facility_type_BANQUET</th>\n",
       "      <th>...</th>\n",
       "      <th>inspection_type_Canvass Re-Inspection</th>\n",
       "      <th>inspection_type_Complaint</th>\n",
       "      <th>inspection_type_Complaint Re-Inspection</th>\n",
       "      <th>inspection_type_Consultation</th>\n",
       "      <th>inspection_type_License</th>\n",
       "      <th>inspection_type_License Re-Inspection</th>\n",
       "      <th>inspection_type_Recent Inspection</th>\n",
       "      <th>inspection_type_Short Form Complaint</th>\n",
       "      <th>inspection_type_Suspected Food Poisoning</th>\n",
       "      <th>inspection_type_Suspected Food Poisoning Re-inspection</th>\n",
       "    </tr>\n",
       "  </thead>\n",
       "  <tbody>\n",
       "    <tr>\n",
       "      <th>0</th>\n",
       "      <td>0</td>\n",
       "      <td>0</td>\n",
       "      <td>0</td>\n",
       "      <td>0</td>\n",
       "      <td>0</td>\n",
       "      <td>0</td>\n",
       "      <td>0</td>\n",
       "      <td>0</td>\n",
       "      <td>0</td>\n",
       "      <td>0</td>\n",
       "      <td>...</td>\n",
       "      <td>0</td>\n",
       "      <td>0</td>\n",
       "      <td>0</td>\n",
       "      <td>0</td>\n",
       "      <td>0</td>\n",
       "      <td>1</td>\n",
       "      <td>0</td>\n",
       "      <td>0</td>\n",
       "      <td>0</td>\n",
       "      <td>0</td>\n",
       "    </tr>\n",
       "    <tr>\n",
       "      <th>1</th>\n",
       "      <td>0</td>\n",
       "      <td>0</td>\n",
       "      <td>0</td>\n",
       "      <td>0</td>\n",
       "      <td>0</td>\n",
       "      <td>0</td>\n",
       "      <td>0</td>\n",
       "      <td>0</td>\n",
       "      <td>0</td>\n",
       "      <td>0</td>\n",
       "      <td>...</td>\n",
       "      <td>0</td>\n",
       "      <td>0</td>\n",
       "      <td>0</td>\n",
       "      <td>0</td>\n",
       "      <td>1</td>\n",
       "      <td>0</td>\n",
       "      <td>0</td>\n",
       "      <td>0</td>\n",
       "      <td>0</td>\n",
       "      <td>0</td>\n",
       "    </tr>\n",
       "    <tr>\n",
       "      <th>2</th>\n",
       "      <td>0</td>\n",
       "      <td>0</td>\n",
       "      <td>0</td>\n",
       "      <td>0</td>\n",
       "      <td>0</td>\n",
       "      <td>0</td>\n",
       "      <td>0</td>\n",
       "      <td>0</td>\n",
       "      <td>0</td>\n",
       "      <td>0</td>\n",
       "      <td>...</td>\n",
       "      <td>1</td>\n",
       "      <td>0</td>\n",
       "      <td>0</td>\n",
       "      <td>0</td>\n",
       "      <td>0</td>\n",
       "      <td>0</td>\n",
       "      <td>0</td>\n",
       "      <td>0</td>\n",
       "      <td>0</td>\n",
       "      <td>0</td>\n",
       "    </tr>\n",
       "    <tr>\n",
       "      <th>3</th>\n",
       "      <td>0</td>\n",
       "      <td>0</td>\n",
       "      <td>0</td>\n",
       "      <td>0</td>\n",
       "      <td>0</td>\n",
       "      <td>0</td>\n",
       "      <td>0</td>\n",
       "      <td>0</td>\n",
       "      <td>0</td>\n",
       "      <td>0</td>\n",
       "      <td>...</td>\n",
       "      <td>0</td>\n",
       "      <td>0</td>\n",
       "      <td>0</td>\n",
       "      <td>0</td>\n",
       "      <td>0</td>\n",
       "      <td>0</td>\n",
       "      <td>0</td>\n",
       "      <td>0</td>\n",
       "      <td>0</td>\n",
       "      <td>0</td>\n",
       "    </tr>\n",
       "    <tr>\n",
       "      <th>5</th>\n",
       "      <td>0</td>\n",
       "      <td>0</td>\n",
       "      <td>0</td>\n",
       "      <td>0</td>\n",
       "      <td>0</td>\n",
       "      <td>0</td>\n",
       "      <td>0</td>\n",
       "      <td>0</td>\n",
       "      <td>0</td>\n",
       "      <td>0</td>\n",
       "      <td>...</td>\n",
       "      <td>0</td>\n",
       "      <td>0</td>\n",
       "      <td>0</td>\n",
       "      <td>0</td>\n",
       "      <td>1</td>\n",
       "      <td>0</td>\n",
       "      <td>0</td>\n",
       "      <td>0</td>\n",
       "      <td>0</td>\n",
       "      <td>0</td>\n",
       "    </tr>\n",
       "  </tbody>\n",
       "</table>\n",
       "<p>5 rows × 149 columns</p>\n",
       "</div>"
      ],
      "text/plain": [
       "   facility_type_1023 CHILDERN'S SERVICE FACILITY  \\\n",
       "0                                               0   \n",
       "1                                               0   \n",
       "2                                               0   \n",
       "3                                               0   \n",
       "5                                               0   \n",
       "\n",
       "   facility_type_1023 CHILDERN'S SERVICES FACILITY  \\\n",
       "0                                                0   \n",
       "1                                                0   \n",
       "2                                                0   \n",
       "3                                                0   \n",
       "5                                                0   \n",
       "\n",
       "   facility_type_1023-CHILDREN'S SERVICES FACILITY  facility_type_1475 LIQUOR  \\\n",
       "0                                                0                          0   \n",
       "1                                                0                          0   \n",
       "2                                                0                          0   \n",
       "3                                                0                          0   \n",
       "5                                                0                          0   \n",
       "\n",
       "   facility_type_ADULT DAYCARE  facility_type_ASSISTED LIVING  \\\n",
       "0                            0                              0   \n",
       "1                            0                              0   \n",
       "2                            0                              0   \n",
       "3                            0                              0   \n",
       "5                            0                              0   \n",
       "\n",
       "   facility_type_ASSISTED LIVING FACILITY  facility_type_Airport Lounge  \\\n",
       "0                                       0                             0   \n",
       "1                                       0                             0   \n",
       "2                                       0                             0   \n",
       "3                                       0                             0   \n",
       "5                                       0                             0   \n",
       "\n",
       "   facility_type_Assisted Living  facility_type_BANQUET  ...  \\\n",
       "0                              0                      0  ...   \n",
       "1                              0                      0  ...   \n",
       "2                              0                      0  ...   \n",
       "3                              0                      0  ...   \n",
       "5                              0                      0  ...   \n",
       "\n",
       "   inspection_type_Canvass Re-Inspection  inspection_type_Complaint  \\\n",
       "0                                      0                          0   \n",
       "1                                      0                          0   \n",
       "2                                      1                          0   \n",
       "3                                      0                          0   \n",
       "5                                      0                          0   \n",
       "\n",
       "   inspection_type_Complaint Re-Inspection  inspection_type_Consultation  \\\n",
       "0                                        0                             0   \n",
       "1                                        0                             0   \n",
       "2                                        0                             0   \n",
       "3                                        0                             0   \n",
       "5                                        0                             0   \n",
       "\n",
       "   inspection_type_License  inspection_type_License Re-Inspection  \\\n",
       "0                        0                                      1   \n",
       "1                        1                                      0   \n",
       "2                        0                                      0   \n",
       "3                        0                                      0   \n",
       "5                        1                                      0   \n",
       "\n",
       "   inspection_type_Recent Inspection  inspection_type_Short Form Complaint  \\\n",
       "0                                  0                                     0   \n",
       "1                                  0                                     0   \n",
       "2                                  0                                     0   \n",
       "3                                  0                                     0   \n",
       "5                                  0                                     0   \n",
       "\n",
       "   inspection_type_Suspected Food Poisoning  \\\n",
       "0                                         0   \n",
       "1                                         0   \n",
       "2                                         0   \n",
       "3                                         0   \n",
       "5                                         0   \n",
       "\n",
       "   inspection_type_Suspected Food Poisoning Re-inspection  \n",
       "0                                                  0       \n",
       "1                                                  0       \n",
       "2                                                  0       \n",
       "3                                                  0       \n",
       "5                                                  0       \n",
       "\n",
       "[5 rows x 149 columns]"
      ]
     },
     "execution_count": 87,
     "metadata": {},
     "output_type": "execute_result"
    }
   ],
   "source": [
    "X = pd.get_dummies(X)\n",
    "X.head()"
   ]
  },
  {
   "cell_type": "code",
   "execution_count": 16,
   "metadata": {},
   "outputs": [
    {
     "name": "stdout",
     "output_type": "stream",
     "text": [
      "facility_type_1023 CHILDERN'S SERVICE FACILITY\n",
      "facility_type_1023 CHILDERN'S SERVICES FACILITY\n",
      "facility_type_1023-CHILDREN'S SERVICES FACILITY\n",
      "facility_type_1475 LIQUOR\n",
      "facility_type_ADULT DAYCARE\n",
      "facility_type_ASSISTED LIVING\n",
      "facility_type_ASSISTED LIVING FACILITY\n",
      "facility_type_Airport Lounge\n",
      "facility_type_Assisted Living\n",
      "facility_type_BANQUET\n",
      "facility_type_BANQUET HALL\n",
      "facility_type_BANQUET HALL/CATERING\n",
      "facility_type_BANQUET ROOM\n",
      "facility_type_BAR\n",
      "facility_type_BREWERY\n",
      "facility_type_BREWPUB\n",
      "facility_type_Bakery\n",
      "facility_type_Banquet\n",
      "facility_type_CAFETERIA\n",
      "facility_type_CANDY SHOP\n",
      "facility_type_CANDY/GELATO\n",
      "facility_type_CATERED LIQUOR\n",
      "facility_type_CHARTER SCHOOL\n",
      "facility_type_CHARTER SCHOOL CAFETERIA\n",
      "facility_type_CHILDRENS SERVICES FACILITY\n",
      "facility_type_CHURCH\n",
      "facility_type_CHURCH (SPECIAL EVENTS)\n",
      "facility_type_CHURCH KITCHEN\n",
      "facility_type_CHURCH/SPECIAL EVENTS\n",
      "facility_type_COFFEE SHOP\n",
      "facility_type_COMMISARY RESTAURANT\n",
      "facility_type_COMMISSARY\n",
      "facility_type_COOKING SCHOOL\n",
      "facility_type_CULINARY CLASS ROOMS\n",
      "facility_type_CUSTOM POULTRY SLAUGHTER\n",
      "facility_type_Catering\n",
      "facility_type_Children's Services Facility\n",
      "facility_type_Church\n",
      "facility_type_DAY CARE 2-14\n",
      "facility_type_DAYCARE\n",
      "facility_type_DELI/BAKERY\n",
      "facility_type_DINING HALL\n",
      "facility_type_DISTRIBUTION CENTER\n",
      "facility_type_DOLLAR STORE\n",
      "facility_type_DOLLAR STORE WITH GROCERY\n",
      "facility_type_Daycare (2 - 6 Years)\n",
      "facility_type_Daycare (2 Years)\n",
      "facility_type_Daycare (Under 2 Years)\n",
      "facility_type_Daycare Above and Under 2 Years\n",
      "facility_type_Daycare Combo 1586\n",
      "facility_type_EVENT SPACE\n",
      "facility_type_EVENT VENU\n",
      "facility_type_EXERCISE AND NUTRITION BAR\n",
      "facility_type_FITNESS CENTER\n",
      "facility_type_FOOD BOOTH\n",
      "facility_type_FROZEN DESSERT PUSHCARTS\n",
      "facility_type_Food Pantry\n",
      "facility_type_GAS STATION\n",
      "facility_type_GAS STATION/CONVENIENCE STORE\n",
      "facility_type_GAS STATION/GROCERY\n",
      "facility_type_GROCERY STORE/COOKING SCHOOL\n",
      "facility_type_GROCERY(GAS STATION)\n",
      "facility_type_GROCERY/BAKERY\n",
      "facility_type_GROCERY/DELI\n",
      "facility_type_GROCERY/RESTAURANT\n",
      "facility_type_GROCERY/TAQUERIA\n",
      "facility_type_GROCERY/TAVERN\n",
      "facility_type_GYM STORE\n",
      "facility_type_Golden Diner\n",
      "facility_type_Grocery Store\n",
      "facility_type_Grocery(Sushi prep)\n",
      "facility_type_HEALTH/ JUICE BAR\n",
      "facility_type_HELICOPTER TERMINAL\n",
      "facility_type_HERBAL LIFE\n",
      "facility_type_HERBALIFE\n",
      "facility_type_HIGH SCHOOL KITCHEN\n",
      "facility_type_Hospital\n",
      "facility_type_ICE CREAM SHOP\n",
      "facility_type_JUICE BAR\n",
      "facility_type_LIQUOR/COFFEE KIOSK\n",
      "facility_type_LIVE POULTRY\n",
      "facility_type_Liquor\n",
      "facility_type_Live Poultry\n",
      "facility_type_Long Term Care\n",
      "facility_type_MOBILE DESSERTS VENDOR\n",
      "facility_type_MOBILE FOOD\n",
      "facility_type_MOBILE FROZEN DESSERTS VENDOR\n",
      "facility_type_Mobile Food Dispenser\n",
      "facility_type_Mobile Food Preparer\n",
      "facility_type_Mobile Frozen Desserts Vendor\n",
      "facility_type_Mobile Prepared Food Vendor\n",
      "facility_type_NOT-FOR-PROFIT CLUB\n",
      "facility_type_NURSING HOME\n",
      "facility_type_O'Hare Kiosk\n",
      "facility_type_Other\n",
      "facility_type_PACKAGED HEALTH FOODS\n",
      "facility_type_POULTRY SLAUGHTER\n",
      "facility_type_PRIVATE SCHOOL\n",
      "facility_type_PUBLIC SHCOOL\n",
      "facility_type_Pop-Up Establishment Host-Tier II\n",
      "facility_type_Pop-Up Food Establishment User-Tier II\n",
      "facility_type_Poultry Slaughter\n",
      "facility_type_Private School\n",
      "facility_type_REGULATED BUSINESS\n",
      "facility_type_RESTAURANT/BAR\n",
      "facility_type_RESTAURANT/GAS STATION\n",
      "facility_type_RESTAURANT/GROCERY STORE\n",
      "facility_type_ROOF TOP\n",
      "facility_type_ROOF TOPS\n",
      "facility_type_ROOFTOP\n",
      "facility_type_ROOFTOPS\n",
      "facility_type_Restaurant\n",
      "facility_type_SCHOOL\n",
      "facility_type_SENIOR DAY CARE\n",
      "facility_type_SLAUGHTER HOUSE/ GROCERY\n",
      "facility_type_STADIUM\n",
      "facility_type_STORE\n",
      "facility_type_SUPPORTIVE LIVING\n",
      "facility_type_SUPPORTIVE LIVING FACILITY\n",
      "facility_type_School\n",
      "facility_type_Shared Kitchen\n",
      "facility_type_Shared Kitchen User (Long Term)\n",
      "facility_type_Shared Kitchen User (Short Term)\n",
      "facility_type_Shelter\n",
      "facility_type_Special Event\n",
      "facility_type_TAVERN\n",
      "facility_type_TAVERN GRILL\n",
      "facility_type_TAVERN/STORE\n",
      "facility_type_TEA BREWING\n",
      "facility_type_THEATRE\n",
      "facility_type_TOBACCO STORE\n",
      "facility_type_Theater & Restaurant\n",
      "facility_type_VENDING COMMISSARY\n",
      "facility_type_WRIGLEY ROOFTOP\n",
      "facility_type_Wholesale\n",
      "facility_type_bar\n",
      "facility_type_convenience store\n",
      "facility_type_cooking school\n",
      "inspection_type_Canvass\n",
      "inspection_type_Canvass Re-Inspection\n",
      "inspection_type_Complaint\n",
      "inspection_type_Complaint Re-Inspection\n",
      "inspection_type_Consultation\n",
      "inspection_type_License\n",
      "inspection_type_License Re-Inspection\n",
      "inspection_type_Recent Inspection\n",
      "inspection_type_Short Form Complaint\n",
      "inspection_type_Suspected Food Poisoning\n",
      "inspection_type_Suspected Food Poisoning Re-inspection\n"
     ]
    }
   ],
   "source": [
    "for col in X.columns: \n",
    "    print(col)"
   ]
  },
  {
   "cell_type": "code",
   "execution_count": 88,
   "metadata": {},
   "outputs": [],
   "source": [
    "# Begin Logit Model\n",
    "from sklearn.model_selection import train_test_split\n",
    "\n",
    "X_train, X_test, y_train, y_test = train_test_split(X, y, random_state=1, stratify=y)"
   ]
  },
  {
   "cell_type": "code",
   "execution_count": 89,
   "metadata": {},
   "outputs": [
    {
     "data": {
      "text/plain": [
       "LogisticRegression(C=1.0, class_weight=None, dual=False, fit_intercept=True,\n",
       "          intercept_scaling=1, max_iter=100, multi_class='warn',\n",
       "          n_jobs=None, penalty='l2', random_state=None, solver='warn',\n",
       "          tol=0.0001, verbose=0, warm_start=False)"
      ]
     },
     "execution_count": 89,
     "metadata": {},
     "output_type": "execute_result"
    }
   ],
   "source": [
    "from sklearn.linear_model import LogisticRegression\n",
    "classifier = LogisticRegression()\n",
    "classifier"
   ]
  },
  {
   "cell_type": "code",
   "execution_count": 90,
   "metadata": {},
   "outputs": [
    {
     "name": "stderr",
     "output_type": "stream",
     "text": [
      "/anaconda3/lib/python3.7/site-packages/sklearn/linear_model/logistic.py:433: FutureWarning: Default solver will be changed to 'lbfgs' in 0.22. Specify a solver to silence this warning.\n",
      "  FutureWarning)\n"
     ]
    }
   ],
   "source": [
    "model = classifier.fit(X_train, y_train)"
   ]
  },
  {
   "cell_type": "code",
   "execution_count": 91,
   "metadata": {},
   "outputs": [
    {
     "data": {
      "text/plain": [
       "2648"
      ]
     },
     "execution_count": 91,
     "metadata": {},
     "output_type": "execute_result"
    }
   ],
   "source": [
    "len(model.predict(X_test))"
   ]
  },
  {
   "cell_type": "code",
   "execution_count": 92,
   "metadata": {},
   "outputs": [
    {
     "data": {
      "text/plain": [
       "7941"
      ]
     },
     "execution_count": 92,
     "metadata": {},
     "output_type": "execute_result"
    }
   ],
   "source": [
    "len(model.predict(X_train))"
   ]
  },
  {
   "cell_type": "code",
   "execution_count": 104,
   "metadata": {},
   "outputs": [],
   "source": [
    "from sklearn.metrics import mean_squared_error, r2_score"
   ]
  },
  {
   "cell_type": "code",
   "execution_count": 108,
   "metadata": {},
   "outputs": [
    {
     "name": "stdout",
     "output_type": "stream",
     "text": [
      "Training Data Score: 0.7798765898501449\n",
      "Testing Data Score: 0.7787009063444109\n",
      "mean squared error: 0.2212990936555891\n"
     ]
    }
   ],
   "source": [
    "print(f\"Training Data Score: {classifier.score(X_train, y_train)}\")\n",
    "print(f\"Testing Data Score: {classifier.score(X_test, y_test)}\")\n",
    "print(f\"mean squared error: {mean_squared_error(y_test, preds_test)}\")"
   ]
  },
  {
   "cell_type": "code",
   "execution_count": 33,
   "metadata": {
    "scrolled": true
   },
   "outputs": [
    {
     "name": "stdout",
     "output_type": "stream",
     "text": [
      "intercept: [1.5977848]\n",
      "coefficient: [ 0.26748152 -0.18412357 -0.18412357 -0.45937179  0.          0.07297348\n",
      "  0.          0.17994865  0.         -1.0378616   0.32150874 -0.30184558\n",
      "  0.17994865 -0.35317431  0.         -0.553951   -0.39585776  0.17994865\n",
      "  0.41981297 -0.65841079  0.          0.26748152 -0.39265768  0.17994865\n",
      " -0.65841079  0.17994865  0.17994865  0.17994865  0.17994865 -0.45937179\n",
      "  0.61723942 -0.33037498  0.17994865  0.17994865  0.29597925  0.61932473\n",
      "  0.4447522   0.          0.26748152  0.46366021  0.          0.\n",
      "  0.26748152 -0.35317431  0.          0.24443409 -0.45937179  0.22665159\n",
      " -0.37236531  0.13989209 -0.5449653   0.06622407  0.26748152 -0.98312013\n",
      "  0.          0.26748152 -1.04864629  0.19161799 -0.35317431  0.26748152\n",
      "  0.17994865 -0.45937179  0.17994865  0.          0.28232762  0.17994865\n",
      " -0.84926948  0.17994865 -0.34491981 -0.12212959 -0.553951    0.17994865\n",
      " -0.45937179 -0.45937179  0.26748152  0.17994865  0.04590223  0.53224083\n",
      "  0.29597925  0.          0.22814001 -0.24442933  0.13199579 -0.65609847\n",
      "  0.26748152 -1.05855     0.26748152  0.26895957  0.7935062   0.61723942\n",
      "  0.99459409  0.          0.17994865 -0.65841079 -0.35317431  0.06622407\n",
      "  0.          0.01278876  0.17994865 -0.3609789  -0.5449653  -0.35317431\n",
      "  0.17994865  0.17994865  0.27833371  0.         -0.5114122   0.32150874\n",
      "  0.32150874  0.32150874  0.17994865 -0.05327529  0.02533953  0.17994865\n",
      " -0.35317431  0.23549541  0.40742999  0.28616133  0.         -0.18378899\n",
      " -0.40101796  0.95661511  0.32150874 -0.04838257  0.02620922 -0.4758871\n",
      "  0.17994865  0.61723942 -0.35317431  0.13199579  0.06622407  0.\n",
      "  0.06622407  0.          0.28232762  0.29597925 -0.65841079  0.17994865\n",
      " -0.26676007  0.86172857 -1.03063427  0.14657946  0.1535964  -0.86185525\n",
      "  0.97353762  0.79168696  0.19522091  0.01588771  0.61879676]\n"
     ]
    }
   ],
   "source": [
    "print('intercept:', model.intercept_)\n",
    "print('coefficient:', model.coef_[0])"
   ]
  },
  {
   "cell_type": "code",
   "execution_count": 94,
   "metadata": {},
   "outputs": [],
   "source": [
    "preds_train = model.predict(X_train)\n",
    "preds_test = model.predict(X_test)\n",
    "prediction_indices = X_test.index"
   ]
  },
  {
   "cell_type": "code",
   "execution_count": 95,
   "metadata": {},
   "outputs": [
    {
     "data": {
      "text/plain": [
       "array([1, 2])"
      ]
     },
     "execution_count": 95,
     "metadata": {},
     "output_type": "execute_result"
    }
   ],
   "source": [
    "np.unique(preds_test)"
   ]
  },
  {
   "cell_type": "code",
   "execution_count": 107,
   "metadata": {},
   "outputs": [],
   "source": [
    "# X_test['logistic_model_prediction'] = preds_test\n",
    "X_test = X_test.drop(['logistic_model_prediction'],axis=1)"
   ]
  },
  {
   "cell_type": "code",
   "execution_count": 97,
   "metadata": {},
   "outputs": [
    {
     "data": {
      "text/html": [
       "<div>\n",
       "<style scoped>\n",
       "    .dataframe tbody tr th:only-of-type {\n",
       "        vertical-align: middle;\n",
       "    }\n",
       "\n",
       "    .dataframe tbody tr th {\n",
       "        vertical-align: top;\n",
       "    }\n",
       "\n",
       "    .dataframe thead th {\n",
       "        text-align: right;\n",
       "    }\n",
       "</style>\n",
       "<table border=\"1\" class=\"dataframe\">\n",
       "  <thead>\n",
       "    <tr style=\"text-align: right;\">\n",
       "      <th></th>\n",
       "      <th>facility_type_1023 CHILDERN'S SERVICE FACILITY</th>\n",
       "      <th>facility_type_1023 CHILDERN'S SERVICES FACILITY</th>\n",
       "      <th>facility_type_1023-CHILDREN'S SERVICES FACILITY</th>\n",
       "      <th>facility_type_1475 LIQUOR</th>\n",
       "      <th>facility_type_ADULT DAYCARE</th>\n",
       "      <th>facility_type_ASSISTED LIVING</th>\n",
       "      <th>facility_type_ASSISTED LIVING FACILITY</th>\n",
       "      <th>facility_type_Airport Lounge</th>\n",
       "      <th>facility_type_Assisted Living</th>\n",
       "      <th>facility_type_BANQUET</th>\n",
       "      <th>...</th>\n",
       "      <th>inspection_type_Complaint</th>\n",
       "      <th>inspection_type_Complaint Re-Inspection</th>\n",
       "      <th>inspection_type_Consultation</th>\n",
       "      <th>inspection_type_License</th>\n",
       "      <th>inspection_type_License Re-Inspection</th>\n",
       "      <th>inspection_type_Recent Inspection</th>\n",
       "      <th>inspection_type_Short Form Complaint</th>\n",
       "      <th>inspection_type_Suspected Food Poisoning</th>\n",
       "      <th>inspection_type_Suspected Food Poisoning Re-inspection</th>\n",
       "      <th>logistic_model_prediction</th>\n",
       "    </tr>\n",
       "  </thead>\n",
       "  <tbody>\n",
       "    <tr>\n",
       "      <th>7317</th>\n",
       "      <td>0</td>\n",
       "      <td>0</td>\n",
       "      <td>0</td>\n",
       "      <td>0</td>\n",
       "      <td>0</td>\n",
       "      <td>0</td>\n",
       "      <td>0</td>\n",
       "      <td>0</td>\n",
       "      <td>0</td>\n",
       "      <td>0</td>\n",
       "      <td>...</td>\n",
       "      <td>1</td>\n",
       "      <td>0</td>\n",
       "      <td>0</td>\n",
       "      <td>0</td>\n",
       "      <td>0</td>\n",
       "      <td>0</td>\n",
       "      <td>0</td>\n",
       "      <td>0</td>\n",
       "      <td>0</td>\n",
       "      <td>2</td>\n",
       "    </tr>\n",
       "    <tr>\n",
       "      <th>9017</th>\n",
       "      <td>0</td>\n",
       "      <td>0</td>\n",
       "      <td>0</td>\n",
       "      <td>0</td>\n",
       "      <td>0</td>\n",
       "      <td>0</td>\n",
       "      <td>0</td>\n",
       "      <td>0</td>\n",
       "      <td>0</td>\n",
       "      <td>0</td>\n",
       "      <td>...</td>\n",
       "      <td>0</td>\n",
       "      <td>0</td>\n",
       "      <td>0</td>\n",
       "      <td>1</td>\n",
       "      <td>0</td>\n",
       "      <td>0</td>\n",
       "      <td>0</td>\n",
       "      <td>0</td>\n",
       "      <td>0</td>\n",
       "      <td>2</td>\n",
       "    </tr>\n",
       "  </tbody>\n",
       "</table>\n",
       "<p>2 rows × 150 columns</p>\n",
       "</div>"
      ],
      "text/plain": [
       "      facility_type_1023 CHILDERN'S SERVICE FACILITY  \\\n",
       "7317                                               0   \n",
       "9017                                               0   \n",
       "\n",
       "      facility_type_1023 CHILDERN'S SERVICES FACILITY  \\\n",
       "7317                                                0   \n",
       "9017                                                0   \n",
       "\n",
       "      facility_type_1023-CHILDREN'S SERVICES FACILITY  \\\n",
       "7317                                                0   \n",
       "9017                                                0   \n",
       "\n",
       "      facility_type_1475 LIQUOR  facility_type_ADULT DAYCARE  \\\n",
       "7317                          0                            0   \n",
       "9017                          0                            0   \n",
       "\n",
       "      facility_type_ASSISTED LIVING  facility_type_ASSISTED LIVING FACILITY  \\\n",
       "7317                              0                                       0   \n",
       "9017                              0                                       0   \n",
       "\n",
       "      facility_type_Airport Lounge  facility_type_Assisted Living  \\\n",
       "7317                             0                              0   \n",
       "9017                             0                              0   \n",
       "\n",
       "      facility_type_BANQUET  ...  inspection_type_Complaint  \\\n",
       "7317                      0  ...                          1   \n",
       "9017                      0  ...                          0   \n",
       "\n",
       "      inspection_type_Complaint Re-Inspection  inspection_type_Consultation  \\\n",
       "7317                                        0                             0   \n",
       "9017                                        0                             0   \n",
       "\n",
       "      inspection_type_License  inspection_type_License Re-Inspection  \\\n",
       "7317                        0                                      0   \n",
       "9017                        1                                      0   \n",
       "\n",
       "      inspection_type_Recent Inspection  inspection_type_Short Form Complaint  \\\n",
       "7317                                  0                                     0   \n",
       "9017                                  0                                     0   \n",
       "\n",
       "      inspection_type_Suspected Food Poisoning  \\\n",
       "7317                                         0   \n",
       "9017                                         0   \n",
       "\n",
       "      inspection_type_Suspected Food Poisoning Re-inspection  \\\n",
       "7317                                                  0        \n",
       "9017                                                  0        \n",
       "\n",
       "      logistic_model_prediction  \n",
       "7317                          2  \n",
       "9017                          2  \n",
       "\n",
       "[2 rows x 150 columns]"
      ]
     },
     "execution_count": 97,
     "metadata": {},
     "output_type": "execute_result"
    }
   ],
   "source": [
    "X_test.loc[X_test['logistic_model_prediction']==2].head()"
   ]
  },
  {
   "cell_type": "code",
   "execution_count": null,
   "metadata": {},
   "outputs": [],
   "source": [
    "for x in prediction_indices:\n",
    "    data.loc[x, 'logistic_model_prediction'] = OH_X_valid.loc[x]['model_prediction']"
   ]
  },
  {
   "cell_type": "code",
   "execution_count": 39,
   "metadata": {},
   "outputs": [
    {
     "data": {
      "image/png": "[encoded data removed]",
      "text/plain": [
       "<Figure size 432x288 with 1 Axes>"
      ]
     },
     "metadata": {
      "needs_background": "light"
     },
     "output_type": "display_data"
    }
   ],
   "source": [
    "# pull in 2019 dataset\n",
    "# structure data similar to the above code so that it can be tested\n",
    "# predictions = classifier.predict(X_test)\n",
    "%matplotlib inline\n",
    "import matplotlib.pyplot as plt\n",
    "\n",
    "plt.scatter(preds_valid, preds_valid - y_train)\n",
    "plt.hlines(y=0, xmin=preds_valid.min(), xmax=preds_valid.max())\n",
    "plt.scatter(preds_train, preds_train - y_train)\n",
    "plt.show()"
   ]
  },
  {
   "cell_type": "code",
   "execution_count": 50,
   "metadata": {},
   "outputs": [
    {
     "name": "stdout",
     "output_type": "stream",
     "text": [
      "Warning: Maximum number of iterations has been exceeded.\n",
      "         Current function value: inf\n",
      "         Iterations: 35\n"
     ]
    },
    {
     "name": "stderr",
     "output_type": "stream",
     "text": [
      "/anaconda3/lib/python3.7/site-packages/statsmodels/discrete/discrete_model.py:1724: RuntimeWarning: divide by zero encountered in log\n",
      "  return np.sum(np.log(self.cdf(q*np.dot(X,params))))\n"
     ]
    },
    {
     "ename": "LinAlgError",
     "evalue": "Singular matrix",
     "output_type": "error",
     "traceback": [
      "\u001b[0;31m---------------------------------------------------------------------------\u001b[0m",
      "\u001b[0;31mLinAlgError\u001b[0m                               Traceback (most recent call last)",
      "\u001b[0;32m<ipython-input-50-c9cda79f29d7>\u001b[0m in \u001b[0;36m<module>\u001b[0;34m\u001b[0m\n\u001b[1;32m      2\u001b[0m \u001b[0;34m\u001b[0m\u001b[0m\n\u001b[1;32m      3\u001b[0m \u001b[0mlogit_model\u001b[0m\u001b[0;34m=\u001b[0m\u001b[0msm\u001b[0m\u001b[0;34m.\u001b[0m\u001b[0mLogit\u001b[0m\u001b[0;34m(\u001b[0m\u001b[0my_test\u001b[0m\u001b[0;34m,\u001b[0m\u001b[0mX_test\u001b[0m\u001b[0;34m)\u001b[0m\u001b[0;34m\u001b[0m\u001b[0;34m\u001b[0m\u001b[0m\n\u001b[0;32m----> 4\u001b[0;31m \u001b[0mresult\u001b[0m\u001b[0;34m=\u001b[0m\u001b[0mlogit_model\u001b[0m\u001b[0;34m.\u001b[0m\u001b[0mfit\u001b[0m\u001b[0;34m(\u001b[0m\u001b[0;34m)\u001b[0m\u001b[0;34m\u001b[0m\u001b[0;34m\u001b[0m\u001b[0m\n\u001b[0m\u001b[1;32m      5\u001b[0m \u001b[0mprint\u001b[0m\u001b[0;34m(\u001b[0m\u001b[0mresult\u001b[0m\u001b[0;34m.\u001b[0m\u001b[0msummary2\u001b[0m\u001b[0;34m(\u001b[0m\u001b[0;34m)\u001b[0m\u001b[0;34m)\u001b[0m\u001b[0;34m\u001b[0m\u001b[0;34m\u001b[0m\u001b[0m\n",
      "\u001b[0;32m/anaconda3/lib/python3.7/site-packages/statsmodels/discrete/discrete_model.py\u001b[0m in \u001b[0;36mfit\u001b[0;34m(self, start_params, method, maxiter, full_output, disp, callback, **kwargs)\u001b[0m\n\u001b[1;32m   1832\u001b[0m         bnryfit = super(Logit, self).fit(start_params=start_params,\n\u001b[1;32m   1833\u001b[0m                 \u001b[0mmethod\u001b[0m\u001b[0;34m=\u001b[0m\u001b[0mmethod\u001b[0m\u001b[0;34m,\u001b[0m \u001b[0mmaxiter\u001b[0m\u001b[0;34m=\u001b[0m\u001b[0mmaxiter\u001b[0m\u001b[0;34m,\u001b[0m \u001b[0mfull_output\u001b[0m\u001b[0;34m=\u001b[0m\u001b[0mfull_output\u001b[0m\u001b[0;34m,\u001b[0m\u001b[0;34m\u001b[0m\u001b[0;34m\u001b[0m\u001b[0m\n\u001b[0;32m-> 1834\u001b[0;31m                 disp=disp, callback=callback, **kwargs)\n\u001b[0m\u001b[1;32m   1835\u001b[0m \u001b[0;34m\u001b[0m\u001b[0m\n\u001b[1;32m   1836\u001b[0m         \u001b[0mdiscretefit\u001b[0m \u001b[0;34m=\u001b[0m \u001b[0mLogitResults\u001b[0m\u001b[0;34m(\u001b[0m\u001b[0mself\u001b[0m\u001b[0;34m,\u001b[0m \u001b[0mbnryfit\u001b[0m\u001b[0;34m)\u001b[0m\u001b[0;34m\u001b[0m\u001b[0;34m\u001b[0m\u001b[0m\n",
      "\u001b[0;32m/anaconda3/lib/python3.7/site-packages/statsmodels/discrete/discrete_model.py\u001b[0m in \u001b[0;36mfit\u001b[0;34m(self, start_params, method, maxiter, full_output, disp, callback, **kwargs)\u001b[0m\n\u001b[1;32m    218\u001b[0m         mlefit = super(DiscreteModel, self).fit(start_params=start_params,\n\u001b[1;32m    219\u001b[0m                 \u001b[0mmethod\u001b[0m\u001b[0;34m=\u001b[0m\u001b[0mmethod\u001b[0m\u001b[0;34m,\u001b[0m \u001b[0mmaxiter\u001b[0m\u001b[0;34m=\u001b[0m\u001b[0mmaxiter\u001b[0m\u001b[0;34m,\u001b[0m \u001b[0mfull_output\u001b[0m\u001b[0;34m=\u001b[0m\u001b[0mfull_output\u001b[0m\u001b[0;34m,\u001b[0m\u001b[0;34m\u001b[0m\u001b[0;34m\u001b[0m\u001b[0m\n\u001b[0;32m--> 220\u001b[0;31m                 disp=disp, callback=callback, **kwargs)\n\u001b[0m\u001b[1;32m    221\u001b[0m \u001b[0;34m\u001b[0m\u001b[0m\n\u001b[1;32m    222\u001b[0m         \u001b[0;32mreturn\u001b[0m \u001b[0mmlefit\u001b[0m \u001b[0;31m# up to subclasses to wrap results\u001b[0m\u001b[0;34m\u001b[0m\u001b[0;34m\u001b[0m\u001b[0m\n",
      "\u001b[0;32m/anaconda3/lib/python3.7/site-packages/statsmodels/base/model.py\u001b[0m in \u001b[0;36mfit\u001b[0;34m(self, start_params, method, maxiter, full_output, disp, fargs, callback, retall, skip_hessian, **kwargs)\u001b[0m\n\u001b[1;32m    471\u001b[0m             \u001b[0mHinv\u001b[0m \u001b[0;34m=\u001b[0m \u001b[0mcov_params_func\u001b[0m\u001b[0;34m(\u001b[0m\u001b[0mself\u001b[0m\u001b[0;34m,\u001b[0m \u001b[0mxopt\u001b[0m\u001b[0;34m,\u001b[0m \u001b[0mretvals\u001b[0m\u001b[0;34m)\u001b[0m\u001b[0;34m\u001b[0m\u001b[0;34m\u001b[0m\u001b[0m\n\u001b[1;32m    472\u001b[0m         \u001b[0;32melif\u001b[0m \u001b[0mmethod\u001b[0m \u001b[0;34m==\u001b[0m \u001b[0;34m'newton'\u001b[0m \u001b[0;32mand\u001b[0m \u001b[0mfull_output\u001b[0m\u001b[0;34m:\u001b[0m\u001b[0;34m\u001b[0m\u001b[0;34m\u001b[0m\u001b[0m\n\u001b[0;32m--> 473\u001b[0;31m             \u001b[0mHinv\u001b[0m \u001b[0;34m=\u001b[0m \u001b[0mnp\u001b[0m\u001b[0;34m.\u001b[0m\u001b[0mlinalg\u001b[0m\u001b[0;34m.\u001b[0m\u001b[0minv\u001b[0m\u001b[0;34m(\u001b[0m\u001b[0;34m-\u001b[0m\u001b[0mretvals\u001b[0m\u001b[0;34m[\u001b[0m\u001b[0;34m'Hessian'\u001b[0m\u001b[0;34m]\u001b[0m\u001b[0;34m)\u001b[0m \u001b[0;34m/\u001b[0m \u001b[0mnobs\u001b[0m\u001b[0;34m\u001b[0m\u001b[0;34m\u001b[0m\u001b[0m\n\u001b[0m\u001b[1;32m    474\u001b[0m         \u001b[0;32melif\u001b[0m \u001b[0;32mnot\u001b[0m \u001b[0mskip_hessian\u001b[0m\u001b[0;34m:\u001b[0m\u001b[0;34m\u001b[0m\u001b[0;34m\u001b[0m\u001b[0m\n\u001b[1;32m    475\u001b[0m             \u001b[0mH\u001b[0m \u001b[0;34m=\u001b[0m \u001b[0;34m-\u001b[0m\u001b[0;36m1\u001b[0m \u001b[0;34m*\u001b[0m \u001b[0mself\u001b[0m\u001b[0;34m.\u001b[0m\u001b[0mhessian\u001b[0m\u001b[0;34m(\u001b[0m\u001b[0mxopt\u001b[0m\u001b[0;34m)\u001b[0m\u001b[0;34m\u001b[0m\u001b[0;34m\u001b[0m\u001b[0m\n",
      "\u001b[0;32m/anaconda3/lib/python3.7/site-packages/numpy/linalg/linalg.py\u001b[0m in \u001b[0;36minv\u001b[0;34m(a)\u001b[0m\n\u001b[1;32m    549\u001b[0m     \u001b[0msignature\u001b[0m \u001b[0;34m=\u001b[0m \u001b[0;34m'D->D'\u001b[0m \u001b[0;32mif\u001b[0m \u001b[0misComplexType\u001b[0m\u001b[0;34m(\u001b[0m\u001b[0mt\u001b[0m\u001b[0;34m)\u001b[0m \u001b[0;32melse\u001b[0m \u001b[0;34m'd->d'\u001b[0m\u001b[0;34m\u001b[0m\u001b[0;34m\u001b[0m\u001b[0m\n\u001b[1;32m    550\u001b[0m     \u001b[0mextobj\u001b[0m \u001b[0;34m=\u001b[0m \u001b[0mget_linalg_error_extobj\u001b[0m\u001b[0;34m(\u001b[0m\u001b[0m_raise_linalgerror_singular\u001b[0m\u001b[0;34m)\u001b[0m\u001b[0;34m\u001b[0m\u001b[0;34m\u001b[0m\u001b[0m\n\u001b[0;32m--> 551\u001b[0;31m     \u001b[0mainv\u001b[0m \u001b[0;34m=\u001b[0m \u001b[0m_umath_linalg\u001b[0m\u001b[0;34m.\u001b[0m\u001b[0minv\u001b[0m\u001b[0;34m(\u001b[0m\u001b[0ma\u001b[0m\u001b[0;34m,\u001b[0m \u001b[0msignature\u001b[0m\u001b[0;34m=\u001b[0m\u001b[0msignature\u001b[0m\u001b[0;34m,\u001b[0m \u001b[0mextobj\u001b[0m\u001b[0;34m=\u001b[0m\u001b[0mextobj\u001b[0m\u001b[0;34m)\u001b[0m\u001b[0;34m\u001b[0m\u001b[0;34m\u001b[0m\u001b[0m\n\u001b[0m\u001b[1;32m    552\u001b[0m     \u001b[0;32mreturn\u001b[0m \u001b[0mwrap\u001b[0m\u001b[0;34m(\u001b[0m\u001b[0mainv\u001b[0m\u001b[0;34m.\u001b[0m\u001b[0mastype\u001b[0m\u001b[0;34m(\u001b[0m\u001b[0mresult_t\u001b[0m\u001b[0;34m,\u001b[0m \u001b[0mcopy\u001b[0m\u001b[0;34m=\u001b[0m\u001b[0;32mFalse\u001b[0m\u001b[0;34m)\u001b[0m\u001b[0;34m)\u001b[0m\u001b[0;34m\u001b[0m\u001b[0;34m\u001b[0m\u001b[0m\n\u001b[1;32m    553\u001b[0m \u001b[0;34m\u001b[0m\u001b[0m\n",
      "\u001b[0;32m/anaconda3/lib/python3.7/site-packages/numpy/linalg/linalg.py\u001b[0m in \u001b[0;36m_raise_linalgerror_singular\u001b[0;34m(err, flag)\u001b[0m\n\u001b[1;32m     95\u001b[0m \u001b[0;34m\u001b[0m\u001b[0m\n\u001b[1;32m     96\u001b[0m \u001b[0;32mdef\u001b[0m \u001b[0m_raise_linalgerror_singular\u001b[0m\u001b[0;34m(\u001b[0m\u001b[0merr\u001b[0m\u001b[0;34m,\u001b[0m \u001b[0mflag\u001b[0m\u001b[0;34m)\u001b[0m\u001b[0;34m:\u001b[0m\u001b[0;34m\u001b[0m\u001b[0;34m\u001b[0m\u001b[0m\n\u001b[0;32m---> 97\u001b[0;31m     \u001b[0;32mraise\u001b[0m \u001b[0mLinAlgError\u001b[0m\u001b[0;34m(\u001b[0m\u001b[0;34m\"Singular matrix\"\u001b[0m\u001b[0;34m)\u001b[0m\u001b[0;34m\u001b[0m\u001b[0;34m\u001b[0m\u001b[0m\n\u001b[0m\u001b[1;32m     98\u001b[0m \u001b[0;34m\u001b[0m\u001b[0m\n\u001b[1;32m     99\u001b[0m \u001b[0;32mdef\u001b[0m \u001b[0m_raise_linalgerror_nonposdef\u001b[0m\u001b[0;34m(\u001b[0m\u001b[0merr\u001b[0m\u001b[0;34m,\u001b[0m \u001b[0mflag\u001b[0m\u001b[0;34m)\u001b[0m\u001b[0;34m:\u001b[0m\u001b[0;34m\u001b[0m\u001b[0;34m\u001b[0m\u001b[0m\n",
      "\u001b[0;31mLinAlgError\u001b[0m: Singular matrix"
     ]
    }
   ],
   "source": [
    "import statsmodels.api as sm\n",
    "\n",
    "logit_model=sm.Logit(y_test,X_test)\n",
    "result=logit_model.fit()\n",
    "print(result.summary2())"
   ]
  },
  {
   "cell_type": "code",
   "execution_count": null,
   "metadata": {},
   "outputs": [],
   "source": [
    "sm.ols"
   ]
  },
  {
   "cell_type": "code",
   "execution_count": 47,
   "metadata": {},
   "outputs": [
    {
     "data": {
      "image/png": "[encoded data removed]",
      "text/plain": [
       "<Figure size 432x288 with 1 Axes>"
      ]
     },
     "metadata": {
      "needs_background": "light"
     },
     "output_type": "display_data"
    }
   ],
   "source": [
    "# logistic regression\n",
    "\n",
    "plt.scatter(preds_test, y_test)\n",
    "plt.show()"
   ]
  },
  {
   "cell_type": "code",
   "execution_count": null,
   "metadata": {},
   "outputs": [],
   "source": []
  }
 ],
 "metadata": {
  "kernelspec": {
   "display_name": "Python 3",
   "language": "python",
   "name": "python3"
  },
  "language_info": {
   "codemirror_mode": {
    "name": "ipython",
    "version": 3
   },
   "file_extension": ".py",
   "mimetype": "text/x-python",
   "name": "python",
   "nbconvert_exporter": "python",
   "pygments_lexer": "ipython3",
   "version": "3.7.3"
  }
 },
 "nbformat": 4,
 "nbformat_minor": 2
}
