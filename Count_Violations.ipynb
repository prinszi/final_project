{
 "cells": [
  {
   "cell_type": "code",
   "execution_count": 1,
   "metadata": {},
   "outputs": [],
   "source": [
    "import pandas as pd\n",
    "import numpy as np"
   ]
  },
  {
   "cell_type": "code",
   "execution_count": 114,
   "metadata": {},
   "outputs": [],
   "source": [
    "city_data = \"chicago_food_inspections/inspection_data_2019_v2.csv\""
   ]
  },
  {
   "cell_type": "code",
   "execution_count": 115,
   "metadata": {},
   "outputs": [],
   "source": [
    "data = pd.read_csv(city_data)"
   ]
  },
  {
   "cell_type": "code",
   "execution_count": null,
   "metadata": {},
   "outputs": [],
   "source": [
    "data['model_prediction'] = np.zeros(len(data.risk))"
   ]
  },
  {
   "cell_type": "code",
   "execution_count": 120,
   "metadata": {},
   "outputs": [],
   "source": [
    "col = []\n",
    "\n",
    "for index, row in data.iterrows():\n",
    "#     print(row.results)\n",
    "    if (row.results == 'Pass w/ Conditions'):\n",
    "        col.append(1)\n",
    "    elif (row.results == 'Pass'):\n",
    "        col.append(1)\n",
    "    elif (row.results == 'Fail'):\n",
    "        col.append(2)\n",
    "    else:\n",
    "        col.append(3)"
   ]
  },
  {
   "cell_type": "code",
   "execution_count": 121,
   "metadata": {},
   "outputs": [],
   "source": [
    "data['binary_results'] = col"
   ]
  },
  {
   "cell_type": "code",
   "execution_count": 123,
   "metadata": {},
   "outputs": [],
   "source": [
    "data.drop(data[data['binary_results']==3].index, inplace = True)"
   ]
  },
  {
   "cell_type": "code",
   "execution_count": 188,
   "metadata": {},
   "outputs": [],
   "source": [
    "data['risk'] = data['risk'].apply(str)\n",
    "data['facility_type'] = data['facility_type'].apply(str)"
   ]
  },
  {
   "cell_type": "code",
   "execution_count": 63,
   "metadata": {},
   "outputs": [],
   "source": [
    "low_cardinality_cols = [cname for cname in data.columns if data[cname].nunique() < 20 and \n",
    "                        data[cname].dtype == \"object\"]"
   ]
  },
  {
   "cell_type": "code",
   "execution_count": 64,
   "metadata": {},
   "outputs": [
    {
     "data": {
      "text/plain": [
       "['inspection_type', 'results', 'risk', 'state']"
      ]
     },
     "execution_count": 64,
     "metadata": {},
     "output_type": "execute_result"
    }
   ],
   "source": [
    "low_cardinality_cols"
   ]
  },
  {
   "cell_type": "code",
   "execution_count": 197,
   "metadata": {},
   "outputs": [],
   "source": [
    "# attempting to one hot enconde facility_type - too many variables\n",
    "\n",
    "# from sklearn.model_selection import train_test_split\n",
    "# y = data.binary_results\n",
    "# X = data.drop(['binary_results'], axis=1)\n",
    "# my_cols = data[['risk','inspection_type','facility_type','avg_violations','times_inspected']].columns\n",
    "# dummy_cols = data[['risk','inspection_type','facility_type']]\n",
    "\n",
    "# X_num = X[['avg_violations','times_inspected']]\n",
    "# X_OH = pd.DataFrame()\n",
    "\n",
    "# for col in dummy_cols:\n",
    "#     X_OH = X_OH + pd.get_dummies(X[col])\n",
    "\n",
    "# X = X_num + X_OH\n"
   ]
  },
  {
   "cell_type": "code",
   "execution_count": 198,
   "metadata": {},
   "outputs": [
    {
     "data": {
      "text/html": [
       "<div>\n",
       "<style scoped>\n",
       "    .dataframe tbody tr th:only-of-type {\n",
       "        vertical-align: middle;\n",
       "    }\n",
       "\n",
       "    .dataframe tbody tr th {\n",
       "        vertical-align: top;\n",
       "    }\n",
       "\n",
       "    .dataframe thead th {\n",
       "        text-align: right;\n",
       "    }\n",
       "</style>\n",
       "<table border=\"1\" class=\"dataframe\">\n",
       "  <thead>\n",
       "    <tr style=\"text-align: right;\">\n",
       "      <th></th>\n",
       "      <th>1023 CHILDERN'S SERVICE FACILITY</th>\n",
       "      <th>1023 CHILDERN'S SERVICES FACILITY</th>\n",
       "      <th>1023-CHILDREN'S SERVICES FACILITY</th>\n",
       "      <th>1475 LIQUOR</th>\n",
       "      <th>ADULT DAYCARE</th>\n",
       "      <th>ASSISTED LIVING</th>\n",
       "      <th>ASSISTED LIVING FACILITY</th>\n",
       "      <th>Airport Lounge</th>\n",
       "      <th>Assisted Living</th>\n",
       "      <th>BANQUET</th>\n",
       "      <th>...</th>\n",
       "      <th>Theater &amp; Restaurant</th>\n",
       "      <th>VENDING COMMISSARY</th>\n",
       "      <th>WRIGLEY ROOFTOP</th>\n",
       "      <th>Wholesale</th>\n",
       "      <th>avg_violations</th>\n",
       "      <th>bar</th>\n",
       "      <th>convenience store</th>\n",
       "      <th>cooking school</th>\n",
       "      <th>nan</th>\n",
       "      <th>times_inspected</th>\n",
       "    </tr>\n",
       "  </thead>\n",
       "  <tbody>\n",
       "    <tr>\n",
       "      <th>0</th>\n",
       "      <td>NaN</td>\n",
       "      <td>NaN</td>\n",
       "      <td>NaN</td>\n",
       "      <td>NaN</td>\n",
       "      <td>NaN</td>\n",
       "      <td>NaN</td>\n",
       "      <td>NaN</td>\n",
       "      <td>NaN</td>\n",
       "      <td>NaN</td>\n",
       "      <td>NaN</td>\n",
       "      <td>...</td>\n",
       "      <td>NaN</td>\n",
       "      <td>NaN</td>\n",
       "      <td>NaN</td>\n",
       "      <td>NaN</td>\n",
       "      <td>NaN</td>\n",
       "      <td>NaN</td>\n",
       "      <td>NaN</td>\n",
       "      <td>NaN</td>\n",
       "      <td>NaN</td>\n",
       "      <td>NaN</td>\n",
       "    </tr>\n",
       "    <tr>\n",
       "      <th>1</th>\n",
       "      <td>NaN</td>\n",
       "      <td>NaN</td>\n",
       "      <td>NaN</td>\n",
       "      <td>NaN</td>\n",
       "      <td>NaN</td>\n",
       "      <td>NaN</td>\n",
       "      <td>NaN</td>\n",
       "      <td>NaN</td>\n",
       "      <td>NaN</td>\n",
       "      <td>NaN</td>\n",
       "      <td>...</td>\n",
       "      <td>NaN</td>\n",
       "      <td>NaN</td>\n",
       "      <td>NaN</td>\n",
       "      <td>NaN</td>\n",
       "      <td>NaN</td>\n",
       "      <td>NaN</td>\n",
       "      <td>NaN</td>\n",
       "      <td>NaN</td>\n",
       "      <td>NaN</td>\n",
       "      <td>NaN</td>\n",
       "    </tr>\n",
       "    <tr>\n",
       "      <th>2</th>\n",
       "      <td>NaN</td>\n",
       "      <td>NaN</td>\n",
       "      <td>NaN</td>\n",
       "      <td>NaN</td>\n",
       "      <td>NaN</td>\n",
       "      <td>NaN</td>\n",
       "      <td>NaN</td>\n",
       "      <td>NaN</td>\n",
       "      <td>NaN</td>\n",
       "      <td>NaN</td>\n",
       "      <td>...</td>\n",
       "      <td>NaN</td>\n",
       "      <td>NaN</td>\n",
       "      <td>NaN</td>\n",
       "      <td>NaN</td>\n",
       "      <td>NaN</td>\n",
       "      <td>NaN</td>\n",
       "      <td>NaN</td>\n",
       "      <td>NaN</td>\n",
       "      <td>NaN</td>\n",
       "      <td>NaN</td>\n",
       "    </tr>\n",
       "    <tr>\n",
       "      <th>3</th>\n",
       "      <td>NaN</td>\n",
       "      <td>NaN</td>\n",
       "      <td>NaN</td>\n",
       "      <td>NaN</td>\n",
       "      <td>NaN</td>\n",
       "      <td>NaN</td>\n",
       "      <td>NaN</td>\n",
       "      <td>NaN</td>\n",
       "      <td>NaN</td>\n",
       "      <td>NaN</td>\n",
       "      <td>...</td>\n",
       "      <td>NaN</td>\n",
       "      <td>NaN</td>\n",
       "      <td>NaN</td>\n",
       "      <td>NaN</td>\n",
       "      <td>NaN</td>\n",
       "      <td>NaN</td>\n",
       "      <td>NaN</td>\n",
       "      <td>NaN</td>\n",
       "      <td>NaN</td>\n",
       "      <td>NaN</td>\n",
       "    </tr>\n",
       "    <tr>\n",
       "      <th>5</th>\n",
       "      <td>NaN</td>\n",
       "      <td>NaN</td>\n",
       "      <td>NaN</td>\n",
       "      <td>NaN</td>\n",
       "      <td>NaN</td>\n",
       "      <td>NaN</td>\n",
       "      <td>NaN</td>\n",
       "      <td>NaN</td>\n",
       "      <td>NaN</td>\n",
       "      <td>NaN</td>\n",
       "      <td>...</td>\n",
       "      <td>NaN</td>\n",
       "      <td>NaN</td>\n",
       "      <td>NaN</td>\n",
       "      <td>NaN</td>\n",
       "      <td>NaN</td>\n",
       "      <td>NaN</td>\n",
       "      <td>NaN</td>\n",
       "      <td>NaN</td>\n",
       "      <td>NaN</td>\n",
       "      <td>NaN</td>\n",
       "    </tr>\n",
       "  </tbody>\n",
       "</table>\n",
       "<p>5 rows × 155 columns</p>\n",
       "</div>"
      ],
      "text/plain": [
       "   1023 CHILDERN'S SERVICE FACILITY  1023 CHILDERN'S SERVICES FACILITY  \\\n",
       "0                               NaN                                NaN   \n",
       "1                               NaN                                NaN   \n",
       "2                               NaN                                NaN   \n",
       "3                               NaN                                NaN   \n",
       "5                               NaN                                NaN   \n",
       "\n",
       "   1023-CHILDREN'S SERVICES FACILITY  1475 LIQUOR  ADULT DAYCARE  \\\n",
       "0                                NaN          NaN            NaN   \n",
       "1                                NaN          NaN            NaN   \n",
       "2                                NaN          NaN            NaN   \n",
       "3                                NaN          NaN            NaN   \n",
       "5                                NaN          NaN            NaN   \n",
       "\n",
       "   ASSISTED LIVING  ASSISTED LIVING FACILITY  Airport Lounge  Assisted Living  \\\n",
       "0              NaN                       NaN             NaN              NaN   \n",
       "1              NaN                       NaN             NaN              NaN   \n",
       "2              NaN                       NaN             NaN              NaN   \n",
       "3              NaN                       NaN             NaN              NaN   \n",
       "5              NaN                       NaN             NaN              NaN   \n",
       "\n",
       "   BANQUET  ...  Theater & Restaurant  VENDING COMMISSARY  WRIGLEY ROOFTOP  \\\n",
       "0      NaN  ...                   NaN                 NaN              NaN   \n",
       "1      NaN  ...                   NaN                 NaN              NaN   \n",
       "2      NaN  ...                   NaN                 NaN              NaN   \n",
       "3      NaN  ...                   NaN                 NaN              NaN   \n",
       "5      NaN  ...                   NaN                 NaN              NaN   \n",
       "\n",
       "   Wholesale  avg_violations  bar  convenience store  cooking school  nan  \\\n",
       "0        NaN             NaN  NaN                NaN             NaN  NaN   \n",
       "1        NaN             NaN  NaN                NaN             NaN  NaN   \n",
       "2        NaN             NaN  NaN                NaN             NaN  NaN   \n",
       "3        NaN             NaN  NaN                NaN             NaN  NaN   \n",
       "5        NaN             NaN  NaN                NaN             NaN  NaN   \n",
       "\n",
       "   times_inspected  \n",
       "0              NaN  \n",
       "1              NaN  \n",
       "2              NaN  \n",
       "3              NaN  \n",
       "5              NaN  \n",
       "\n",
       "[5 rows x 155 columns]"
      ]
     },
     "execution_count": 198,
     "metadata": {},
     "output_type": "execute_result"
    }
   ],
   "source": [
    "X.head()"
   ]
  },
  {
   "cell_type": "code",
   "execution_count": 199,
   "metadata": {},
   "outputs": [],
   "source": [
    "from sklearn.model_selection import train_test_split\n",
    "y = data.binary_results\n",
    "X = data.drop(['binary_results'], axis=1)\n",
    "X_train_full, X_valid_full, y_train, y_valid = train_test_split(X,y,train_size=0.8, test_size=0.2,random_state=0)\n",
    "\n",
    "my_cols = data[['risk','inspection_type','avg_violations','times_inspected']].columns\n",
    "X_train = X_train_full[my_cols].copy()\n",
    "X_valid = X_valid_full[my_cols].copy()"
   ]
  },
  {
   "cell_type": "code",
   "execution_count": 191,
   "metadata": {},
   "outputs": [],
   "source": [
    "# Label Encoding\n",
    "\n",
    "from sklearn.preprocessing import LabelEncoder\n",
    "\n",
    "labeled_X_train = X_train.copy()\n",
    "labeled_X_valid = X_valid.copy()\n",
    "\n",
    "# Apply label encoder to each column with categorical data\n",
    "label_encoder = LabelEncoder()\n",
    "\n",
    "labeled_X_train['risk'] = label_encoder.fit_transform(X_train['risk'])\n",
    "labeled_X_valid['risk'] = label_encoder.fit_transform(X_valid['risk'])\n",
    "\n",
    "labeled_X_train['inspection_type'] = label_encoder.fit_transform(X_train['inspection_type'])\n",
    "labeled_X_valid['inspection_type'] = label_encoder.transform(X_valid['inspection_type'])\n",
    "\n",
    "labeled_X_train['facility_type'] = label_encoder.fit_transform(X_train['facility_type'])\n",
    "labeled_X_valid['facility_type'] = label_encoder.transform(X_valid['facility_type'])"
   ]
  },
  {
   "cell_type": "code",
   "execution_count": 200,
   "metadata": {},
   "outputs": [],
   "source": [
    "# get the dummies (one hot encoding)\n",
    "\n",
    "X_train_OH = pd.get_dummies(X_train['risk'])\n",
    "X_valid_OH = pd.get_dummies(X_valid['risk'])\n",
    "\n",
    "X_train_OH_2 = pd.get_dummies(X_train['inspection_type'])\n",
    "X_valid_OH_2 = pd.get_dummies(X_valid['inspection_type'])"
   ]
  },
  {
   "cell_type": "code",
   "execution_count": 201,
   "metadata": {},
   "outputs": [],
   "source": [
    "# concatenate all of the columns together\n",
    "\n",
    "OH_X_train = pd.concat([X_train['avg_violations'],X_train['times_inspected'], X_train_OH, X_train_OH_2], axis=1)\n",
    "OH_X_valid = pd.concat([X_valid['avg_violations'],X_valid['times_inspected'], X_valid_OH, X_valid_OH_2], axis=1)"
   ]
  },
  {
   "cell_type": "code",
   "execution_count": 253,
   "metadata": {},
   "outputs": [],
   "source": [
    "OH_X_valid = OH_X_valid.drop(['model_prediction'],axis=1)"
   ]
  },
  {
   "cell_type": "code",
   "execution_count": 251,
   "metadata": {},
   "outputs": [
    {
     "data": {
      "text/plain": [
       "Index(['avg_violations', 'times_inspected', 'Risk 1 (High)', 'Risk 2 (Medium)',\n",
       "       'Risk 3 (Low)', 'Canvass', 'Canvass Re-Inspection', 'Complaint',\n",
       "       'Complaint Re-Inspection', 'Consultation', 'License',\n",
       "       'License Re-Inspection', 'Recent Inspection', 'Short Form Complaint',\n",
       "       'Suspected Food Poisoning', 'Suspected Food Poisoning Re-inspection'],\n",
       "      dtype='object')"
      ]
     },
     "execution_count": 251,
     "metadata": {},
     "output_type": "execute_result"
    }
   ],
   "source": [
    "OH_X_train.columns"
   ]
  },
  {
   "cell_type": "code",
   "execution_count": 245,
   "metadata": {},
   "outputs": [],
   "source": [
    "# add a column that wasn't in the y\n",
    "\n",
    "OH_X_train['Consultation'] = np.zeros(8471)\n",
    "# len(OH_X_train)"
   ]
  },
  {
   "cell_type": "code",
   "execution_count": 205,
   "metadata": {},
   "outputs": [],
   "source": [
    "# from sklearn.preprocessing import OneHotEncoder\n",
    "\n",
    "# # Apply one-hot encoder to each column with categorical data\n",
    "# OH_encoder = OneHotEncoder(handle_unknown='ignore', sparse=False)\n",
    "# OH_cols_train = pd.DataFrame(OH_encoder.fit_transform(X_train['risk']))\n",
    "# OH_cols_valid = pd.DataFrame(OH_encoder.transform(X_valid['risk']))\n",
    "\n",
    "# OH_cols_train = pd.DataFrame(OH_encoder.fit_transform(X_train['inspection_type']))\n",
    "# OH_cols_valid = pd.DataFrame(OH_encoder.transform(X_valid['inspection_type']))\n"
   ]
  },
  {
   "cell_type": "code",
   "execution_count": 258,
   "metadata": {},
   "outputs": [],
   "source": [
    "from sklearn.ensemble import RandomForestClassifier\n",
    "from sklearn.linear_model import LogisticRegression\n",
    "from sklearn.metrics import mean_squared_error, r2_score\n",
    "\n",
    "\n",
    "# Function for comparing different approaches\n",
    "def score_dataset(X_train, X_valid, y_train, y_valid):\n",
    "#     model = RandomForestClassifier(n_estimators=100, random_state=0)\n",
    "    model = LogisticRegression(solver='lbfgs',max_iter=500)\n",
    "    model.fit(X_train, y_train)\n",
    "    preds_valid = model.predict(X_valid)\n",
    "    preds_train = model.predict(X_train)\n",
    "    score_valid = model.score(X_valid, y_valid)\n",
    "    score_train = model.score(X_train, y_train)\n",
    "    return mean_squared_error(y_valid, preds_valid), r2_score(y_valid, preds_valid), preds_valid, preds_train, score_valid, score_train"
   ]
  },
  {
   "cell_type": "code",
   "execution_count": 260,
   "metadata": {},
   "outputs": [
    {
     "name": "stdout",
     "output_type": "stream",
     "text": [
      "mean squared error: 0.1931067044381492\n",
      "r2 score: -0.1430188738995506\n",
      "training score: 0.8068932955618509\n",
      "testing/validating score: 0.825404320623303\n"
     ]
    }
   ],
   "source": [
    "# logistic regression\n",
    "\n",
    "print(f\"mean squared error: {score_dataset(OH_X_train, OH_X_valid, y_train, y_valid)[0]}\")\n",
    "print(f\"r2 score: {score_dataset(OH_X_train, OH_X_valid, y_train, y_valid)[1]}\")\n",
    "print(f\"training score: {score_dataset(OH_X_train, OH_X_valid, y_train, y_valid)[4]}\")\n",
    "print(f\"testing/validating score: {score_dataset(OH_X_train, OH_X_valid, y_train, y_valid)[5]}\")"
   ]
  },
  {
   "cell_type": "code",
   "execution_count": 132,
   "metadata": {},
   "outputs": [
    {
     "name": "stdout",
     "output_type": "stream",
     "text": [
      "mean squared error: 0.10891206774031882\n",
      "r2 score: 0.35533802731078323\n"
     ]
    }
   ],
   "source": [
    "# using label encoding\n",
    "\n",
    "print(f\"mean squared error: {score_dataset(labeled_X_train, labeled_X_valid, y_train, y_valid)[0]}\")\n",
    "print(f\"r2 score: {score_dataset(labeled_X_train, labeled_X_valid, y_train, y_valid)[1]}\")"
   ]
  },
  {
   "cell_type": "code",
   "execution_count": 206,
   "metadata": {},
   "outputs": [
    {
     "name": "stdout",
     "output_type": "stream",
     "text": [
      "mean squared error: 0.1964117091595845\n",
      "r2 score: -0.1625815441129903\n"
     ]
    }
   ],
   "source": [
    "# using one hot encoding\n",
    "\n",
    "print(f\"mean squared error: {score_dataset(OH_X_train, OH_X_valid, y_train, y_valid)[0]}\")\n",
    "print(f\"r2 score: {score_dataset(OH_X_train, OH_X_valid, y_train, y_valid)[1]}\")"
   ]
  },
  {
   "cell_type": "code",
   "execution_count": 133,
   "metadata": {},
   "outputs": [],
   "source": [
    "# label encoding predictions\n",
    "\n",
    "preds_valid = score_dataset(labeled_X_train, labeled_X_valid, y_train, y_valid)[2]\n",
    "preds_train = score_dataset(labeled_X_train, labeled_X_valid, y_train, y_valid)[3]"
   ]
  },
  {
   "cell_type": "code",
   "execution_count": 259,
   "metadata": {},
   "outputs": [],
   "source": [
    "# one hot encoding predictions\n",
    "\n",
    "preds_valid = score_dataset(OH_X_train, OH_X_valid, y_train, y_valid)[2]\n",
    "preds_train = score_dataset(OH_X_train, OH_X_valid, y_train, y_valid)[3]"
   ]
  },
  {
   "cell_type": "code",
   "execution_count": 262,
   "metadata": {},
   "outputs": [
    {
     "data": {
      "text/plain": [
       "(array([1, 2]), array([1879,  239]))"
      ]
     },
     "execution_count": 262,
     "metadata": {},
     "output_type": "execute_result"
    }
   ],
   "source": [
    "np.unique(preds_valid,return_counts = True)"
   ]
  },
  {
   "cell_type": "code",
   "execution_count": 264,
   "metadata": {},
   "outputs": [],
   "source": [
    "OH_X_valid['logistic_model_prediction'] = preds_valid"
   ]
  },
  {
   "cell_type": "code",
   "execution_count": 265,
   "metadata": {},
   "outputs": [
    {
     "data": {
      "text/html": [
       "<div>\n",
       "<style scoped>\n",
       "    .dataframe tbody tr th:only-of-type {\n",
       "        vertical-align: middle;\n",
       "    }\n",
       "\n",
       "    .dataframe tbody tr th {\n",
       "        vertical-align: top;\n",
       "    }\n",
       "\n",
       "    .dataframe thead th {\n",
       "        text-align: right;\n",
       "    }\n",
       "</style>\n",
       "<table border=\"1\" class=\"dataframe\">\n",
       "  <thead>\n",
       "    <tr style=\"text-align: right;\">\n",
       "      <th></th>\n",
       "      <th>avg_violations</th>\n",
       "      <th>times_inspected</th>\n",
       "      <th>Risk 1 (High)</th>\n",
       "      <th>Risk 2 (Medium)</th>\n",
       "      <th>Risk 3 (Low)</th>\n",
       "      <th>Canvass</th>\n",
       "      <th>Canvass Re-Inspection</th>\n",
       "      <th>Complaint</th>\n",
       "      <th>Complaint Re-Inspection</th>\n",
       "      <th>License</th>\n",
       "      <th>License Re-Inspection</th>\n",
       "      <th>Recent Inspection</th>\n",
       "      <th>Short Form Complaint</th>\n",
       "      <th>Suspected Food Poisoning</th>\n",
       "      <th>Suspected Food Poisoning Re-inspection</th>\n",
       "      <th>Consultation</th>\n",
       "      <th>logistic_model_prediction</th>\n",
       "    </tr>\n",
       "  </thead>\n",
       "  <tbody>\n",
       "    <tr>\n",
       "      <th>8725</th>\n",
       "      <td>3.0</td>\n",
       "      <td>1</td>\n",
       "      <td>1</td>\n",
       "      <td>0</td>\n",
       "      <td>0</td>\n",
       "      <td>1</td>\n",
       "      <td>0</td>\n",
       "      <td>0</td>\n",
       "      <td>0</td>\n",
       "      <td>0</td>\n",
       "      <td>0</td>\n",
       "      <td>0</td>\n",
       "      <td>0</td>\n",
       "      <td>0</td>\n",
       "      <td>0</td>\n",
       "      <td>0.0</td>\n",
       "      <td>1</td>\n",
       "    </tr>\n",
       "    <tr>\n",
       "      <th>7914</th>\n",
       "      <td>12.0</td>\n",
       "      <td>1</td>\n",
       "      <td>1</td>\n",
       "      <td>0</td>\n",
       "      <td>0</td>\n",
       "      <td>1</td>\n",
       "      <td>0</td>\n",
       "      <td>0</td>\n",
       "      <td>0</td>\n",
       "      <td>0</td>\n",
       "      <td>0</td>\n",
       "      <td>0</td>\n",
       "      <td>0</td>\n",
       "      <td>0</td>\n",
       "      <td>0</td>\n",
       "      <td>0.0</td>\n",
       "      <td>1</td>\n",
       "    </tr>\n",
       "    <tr>\n",
       "      <th>12131</th>\n",
       "      <td>1.0</td>\n",
       "      <td>1</td>\n",
       "      <td>1</td>\n",
       "      <td>0</td>\n",
       "      <td>0</td>\n",
       "      <td>1</td>\n",
       "      <td>0</td>\n",
       "      <td>0</td>\n",
       "      <td>0</td>\n",
       "      <td>0</td>\n",
       "      <td>0</td>\n",
       "      <td>0</td>\n",
       "      <td>0</td>\n",
       "      <td>0</td>\n",
       "      <td>0</td>\n",
       "      <td>0.0</td>\n",
       "      <td>1</td>\n",
       "    </tr>\n",
       "    <tr>\n",
       "      <th>5445</th>\n",
       "      <td>8.0</td>\n",
       "      <td>2</td>\n",
       "      <td>1</td>\n",
       "      <td>0</td>\n",
       "      <td>0</td>\n",
       "      <td>1</td>\n",
       "      <td>0</td>\n",
       "      <td>0</td>\n",
       "      <td>0</td>\n",
       "      <td>0</td>\n",
       "      <td>0</td>\n",
       "      <td>0</td>\n",
       "      <td>0</td>\n",
       "      <td>0</td>\n",
       "      <td>0</td>\n",
       "      <td>0.0</td>\n",
       "      <td>1</td>\n",
       "    </tr>\n",
       "    <tr>\n",
       "      <th>1871</th>\n",
       "      <td>0.0</td>\n",
       "      <td>1</td>\n",
       "      <td>0</td>\n",
       "      <td>0</td>\n",
       "      <td>1</td>\n",
       "      <td>0</td>\n",
       "      <td>0</td>\n",
       "      <td>0</td>\n",
       "      <td>0</td>\n",
       "      <td>1</td>\n",
       "      <td>0</td>\n",
       "      <td>0</td>\n",
       "      <td>0</td>\n",
       "      <td>0</td>\n",
       "      <td>0</td>\n",
       "      <td>0.0</td>\n",
       "      <td>1</td>\n",
       "    </tr>\n",
       "  </tbody>\n",
       "</table>\n",
       "</div>"
      ],
      "text/plain": [
       "       avg_violations  times_inspected  Risk 1 (High)  Risk 2 (Medium)  \\\n",
       "8725              3.0                1              1                0   \n",
       "7914             12.0                1              1                0   \n",
       "12131             1.0                1              1                0   \n",
       "5445              8.0                2              1                0   \n",
       "1871              0.0                1              0                0   \n",
       "\n",
       "       Risk 3 (Low)  Canvass  Canvass Re-Inspection  Complaint  \\\n",
       "8725              0        1                      0          0   \n",
       "7914              0        1                      0          0   \n",
       "12131             0        1                      0          0   \n",
       "5445              0        1                      0          0   \n",
       "1871              1        0                      0          0   \n",
       "\n",
       "       Complaint Re-Inspection  License  License Re-Inspection  \\\n",
       "8725                         0        0                      0   \n",
       "7914                         0        0                      0   \n",
       "12131                        0        0                      0   \n",
       "5445                         0        0                      0   \n",
       "1871                         0        1                      0   \n",
       "\n",
       "       Recent Inspection  Short Form Complaint  Suspected Food Poisoning  \\\n",
       "8725                   0                     0                         0   \n",
       "7914                   0                     0                         0   \n",
       "12131                  0                     0                         0   \n",
       "5445                   0                     0                         0   \n",
       "1871                   0                     0                         0   \n",
       "\n",
       "       Suspected Food Poisoning Re-inspection  Consultation  \\\n",
       "8725                                        0           0.0   \n",
       "7914                                        0           0.0   \n",
       "12131                                       0           0.0   \n",
       "5445                                        0           0.0   \n",
       "1871                                        0           0.0   \n",
       "\n",
       "       logistic_model_prediction  \n",
       "8725                           1  \n",
       "7914                           1  \n",
       "12131                          1  \n",
       "5445                           1  \n",
       "1871                           1  "
      ]
     },
     "execution_count": 265,
     "metadata": {},
     "output_type": "execute_result"
    }
   ],
   "source": [
    "OH_X_valid.head()"
   ]
  },
  {
   "cell_type": "code",
   "execution_count": 266,
   "metadata": {},
   "outputs": [],
   "source": [
    "prediction_indices = OH_X_valid.index"
   ]
  },
  {
   "cell_type": "code",
   "execution_count": 267,
   "metadata": {},
   "outputs": [],
   "source": [
    "for x in prediction_indices:\n",
    "    data.loc[x, 'logistic_model_prediction'] = OH_X_valid.loc[x]['logistic_model_prediction']"
   ]
  },
  {
   "cell_type": "code",
   "execution_count": 273,
   "metadata": {},
   "outputs": [],
   "source": [
    "# data['logistic_model_prediction'] = data['logistic_model_prediction'].fillna(0)\n",
    "# data.loc[data['binary_results']==2].head()"
   ]
  },
  {
   "cell_type": "code",
   "execution_count": 277,
   "metadata": {},
   "outputs": [],
   "source": [
    "data.to_csv('model_results.csv',encoding='utf-8',index=False)"
   ]
  },
  {
   "cell_type": "code",
   "execution_count": 275,
   "metadata": {},
   "outputs": [
    {
     "name": "stdout",
     "output_type": "stream",
     "text": [
      "/Users/evanstroh/Documents/Data_Science_Bootcamp/local_git_repository\r\n"
     ]
    }
   ],
   "source": [
    "!pwd"
   ]
  },
  {
   "cell_type": "code",
   "execution_count": 229,
   "metadata": {},
   "outputs": [
    {
     "data": {
      "text/plain": [
       "Int64Index([ 8725,  7914, 12131,  5445,  1871, 10535,  4823, 11113,  5784,\n",
       "             3188,\n",
       "            ...\n",
       "            11064,  4771,  1577,  1041,  3864,  7679,  7876,  4537, 11501,\n",
       "             8703],\n",
       "           dtype='int64', length=2118)"
      ]
     },
     "execution_count": 229,
     "metadata": {},
     "output_type": "execute_result"
    }
   ],
   "source": [
    "OH_X_valid.index"
   ]
  },
  {
   "cell_type": "code",
   "execution_count": 179,
   "metadata": {},
   "outputs": [
    {
     "data": {
      "image/png": "[encoded data removed]",
      "text/plain": [
       "<Figure size 432x288 with 1 Axes>"
      ]
     },
     "metadata": {
      "needs_background": "light"
     },
     "output_type": "display_data"
    }
   ],
   "source": [
    "%matplotlib inline\n",
    "import matplotlib.pyplot as plt\n",
    "\n",
    "plt.scatter(preds_valid, preds_valid - y_valid)\n",
    "plt.hlines(y=0, xmin=preds_valid.min(), xmax=preds_valid.max())\n",
    "plt.scatter(preds_train, preds_train - y_train)\n",
    "plt.show()"
   ]
  },
  {
   "cell_type": "code",
   "execution_count": 180,
   "metadata": {},
   "outputs": [
    {
     "name": "stdout",
     "output_type": "stream",
     "text": [
      "                           Results: Ordinary least squares\n",
      "=====================================================================================\n",
      "Model:                     OLS                    Adj. R-squared:           0.140    \n",
      "Dependent Variable:        binary_results         AIC:                      1941.0061\n",
      "Date:                      2019-10-27 18:42       BIC:                      2020.2213\n",
      "No. Observations:          2118                   Log-Likelihood:           -956.50  \n",
      "Df Model:                  13                     F-statistic:              27.41    \n",
      "Df Residuals:              2104                   Prob (F-statistic):       1.19e-62 \n",
      "R-squared:                 0.145                  Scale:                    0.14543  \n",
      "-------------------------------------------------------------------------------------\n",
      "                                        Coef.  Std.Err.    t    P>|t|   [0.025 0.975]\n",
      "-------------------------------------------------------------------------------------\n",
      "avg_violations                          0.0137   0.0022  6.2732 0.0000  0.0094 0.0179\n",
      "times_inspected                         0.0849   0.0058 14.5265 0.0000  0.0735 0.0964\n",
      "Risk 1 (High)                           0.6832   0.0366 18.6682 0.0000  0.6115 0.7550\n",
      "Risk 2 (Medium)                         0.6909   0.0402 17.1694 0.0000  0.6120 0.7699\n",
      "Risk 3 (Low)                            0.7648   0.0483 15.8307 0.0000  0.6701 0.8596\n",
      "Canvass                                 0.3191   0.0353  9.0491 0.0000  0.2500 0.3883\n",
      "Canvass Re-Inspection                   0.1017   0.0401  2.5349 0.0113  0.0230 0.1804\n",
      "Complaint                               0.4011   0.0410  9.7815 0.0000  0.3207 0.4815\n",
      "Complaint Re-Inspection                 0.1098   0.0490  2.2418 0.0251  0.0137 0.2058\n",
      "License                                 0.4515   0.0391 11.5491 0.0000  0.3748 0.5281\n",
      "License Re-Inspection                   0.1280   0.0507  2.5249 0.0116  0.0286 0.2275\n",
      "Recent Inspection                      -0.0115   0.1162 -0.0987 0.9214 -0.2394 0.2164\n",
      "Short Form Complaint                    0.1065   0.0634  1.6796 0.0932 -0.0179 0.2309\n",
      "Suspected Food Poisoning                0.4132   0.1217  3.3950 0.0007  0.1745 0.6518\n",
      "Suspected Food Poisoning Re-inspection  0.1195   0.3525  0.3391 0.7345 -0.5717 0.8108\n",
      "Consultation                            0.0000   0.0000     nan    nan  0.0000 0.0000\n",
      "-------------------------------------------------------------------------------------\n",
      "Omnibus:                    240.860             Durbin-Watson:                1.942  \n",
      "Prob(Omnibus):              0.000               Jarque-Bera (JB):             452.942\n",
      "Skew:                       0.735               Prob(JB):                     0.000  \n",
      "Kurtosis:                   4.724               Condition No.:                inf    \n",
      "=====================================================================================\n",
      "* The condition number is large (inf). This might indicate             strong\n",
      "multicollinearity or other numerical problems.\n"
     ]
    },
    {
     "name": "stderr",
     "output_type": "stream",
     "text": [
      "/anaconda3/lib/python3.7/site-packages/statsmodels/regression/linear_model.py:1633: RuntimeWarning: divide by zero encountered in double_scalars\n",
      "  return np.sqrt(eigvals[0]/eigvals[-1])\n",
      "/anaconda3/lib/python3.7/site-packages/statsmodels/base/model.py:1100: RuntimeWarning: invalid value encountered in true_divide\n",
      "  return self.params / self.bse\n",
      "/anaconda3/lib/python3.7/site-packages/scipy/stats/_distn_infrastructure.py:877: RuntimeWarning: invalid value encountered in greater\n",
      "  return (self.a < x) & (x < self.b)\n",
      "/anaconda3/lib/python3.7/site-packages/scipy/stats/_distn_infrastructure.py:877: RuntimeWarning: invalid value encountered in less\n",
      "  return (self.a < x) & (x < self.b)\n",
      "/anaconda3/lib/python3.7/site-packages/scipy/stats/_distn_infrastructure.py:1831: RuntimeWarning: invalid value encountered in less_equal\n",
      "  cond2 = cond0 & (x <= self.a)\n"
     ]
    }
   ],
   "source": [
    "# random forest\n",
    "\n",
    "import statsmodels.api as sm\n",
    "model = sm.OLS(y_valid, OH_X_valid)\n",
    "results = model.fit()\n",
    "print(results.summary2())"
   ]
  },
  {
   "cell_type": "code",
   "execution_count": 181,
   "metadata": {},
   "outputs": [
    {
     "data": {
      "text/plain": [
       "8725     1\n",
       "7914     1\n",
       "12131    1\n",
       "5445     2\n",
       "1871     1\n",
       "Name: binary_results, dtype: int64"
      ]
     },
     "execution_count": 181,
     "metadata": {},
     "output_type": "execute_result"
    }
   ],
   "source": [
    "y_valid[0:5]"
   ]
  },
  {
   "cell_type": "code",
   "execution_count": 182,
   "metadata": {},
   "outputs": [
    {
     "data": {
      "text/plain": [
       "array([1, 1, 1, 2, 1])"
      ]
     },
     "execution_count": 182,
     "metadata": {},
     "output_type": "execute_result"
    }
   ],
   "source": [
    "preds_valid[0:5]"
   ]
  },
  {
   "cell_type": "code",
   "execution_count": 184,
   "metadata": {},
   "outputs": [],
   "source": [
    "# scatter of : y_train, predicted_train"
   ]
  },
  {
   "cell_type": "code",
   "execution_count": 185,
   "metadata": {},
   "outputs": [
    {
     "data": {
      "image/png": "[encoded data removed]",
      "text/plain": [
       "<Figure size 432x288 with 1 Axes>"
      ]
     },
     "metadata": {
      "needs_background": "light"
     },
     "output_type": "display_data"
    }
   ],
   "source": [
    "# random forest\n",
    "\n",
    "plt.scatter(preds_valid, y_valid)\n",
    "plt.show()"
   ]
  },
  {
   "cell_type": "code",
   "execution_count": null,
   "metadata": {},
   "outputs": [],
   "source": []
  }
 ],
 "metadata": {
  "kernelspec": {
   "display_name": "Python 3",
   "language": "python",
   "name": "python3"
  },
  "language_info": {
   "codemirror_mode": {
    "name": "ipython",
    "version": 3
   },
   "file_extension": ".py",
   "mimetype": "text/x-python",
   "name": "python",
   "nbconvert_exporter": "python",
   "pygments_lexer": "ipython3",
   "version": "3.7.3"
  }
 },
 "nbformat": 4,
 "nbformat_minor": 2
}
